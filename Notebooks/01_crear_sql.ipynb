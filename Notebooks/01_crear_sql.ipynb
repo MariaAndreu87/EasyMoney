{
 "cells": [
  {
   "cell_type": "markdown",
   "id": "9fe9fb1a",
   "metadata": {
    "toc": true
   },
   "source": [
    "<h1>Table of Contents<span class=\"tocSkip\"></span></h1>\n",
    "<div class=\"toc\"><ul class=\"toc-item\"><li><span><a href=\"#Librerías\" data-toc-modified-id=\"Librerías-1\"><span class=\"toc-item-num\">1&nbsp;&nbsp;</span>Librerías</a></span></li><li><span><a href=\"#Conexión-con-la-base-de-datos\" data-toc-modified-id=\"Conexión-con-la-base-de-datos-2\"><span class=\"toc-item-num\">2&nbsp;&nbsp;</span>Conexión con la base de datos</a></span></li><li><span><a href=\"#Cargar-datos-csv\" data-toc-modified-id=\"Cargar-datos-csv-3\"><span class=\"toc-item-num\">3&nbsp;&nbsp;</span>Cargar datos csv</a></span></li><li><span><a href=\"#Consultar-los-datasets\" data-toc-modified-id=\"Consultar-los-datasets-4\"><span class=\"toc-item-num\">4&nbsp;&nbsp;</span>Consultar los datasets</a></span><ul class=\"toc-item\"><li><span><a href=\"#Commercial-activity\" data-toc-modified-id=\"Commercial-activity-4.1\"><span class=\"toc-item-num\">4.1&nbsp;&nbsp;</span>Commercial activity</a></span></li><li><span><a href=\"#Procuts\" data-toc-modified-id=\"Procuts-4.2\"><span class=\"toc-item-num\">4.2&nbsp;&nbsp;</span>Procuts</a></span></li></ul></li><li><span><a href=\"#Sociodemographic\" data-toc-modified-id=\"Sociodemographic-5\"><span class=\"toc-item-num\">5&nbsp;&nbsp;</span>Sociodemographic</a></span></li><li><span><a href=\"#Transformación-de-los-dataset\" data-toc-modified-id=\"Transformación-de-los-dataset-6\"><span class=\"toc-item-num\">6&nbsp;&nbsp;</span>Transformación de los dataset</a></span></li><li><span><a href=\"#Subir-dataset-a-la-base-de-datos-(pendiente)\" data-toc-modified-id=\"Subir-dataset-a-la-base-de-datos-(pendiente)-7\"><span class=\"toc-item-num\">7&nbsp;&nbsp;</span>Subir dataset a la base de datos (pendiente)</a></span></li></ul></div>"
   ]
  },
  {
   "cell_type": "markdown",
   "id": "3aa91c1e",
   "metadata": {},
   "source": [
    "## Librerías"
   ]
  },
  {
   "cell_type": "code",
   "execution_count": 1,
   "id": "28c2cd13",
   "metadata": {
    "ExecuteTime": {
     "end_time": "2021-06-09T16:18:53.610485Z",
     "start_time": "2021-06-09T16:18:53.267854Z"
    }
   },
   "outputs": [],
   "source": [
    "from sqlalchemy import create_engine\n",
    "import sqlalchemy\n",
    "import mysql\n",
    "import pandas as pd\n",
    "from IPython.core.display import display, HTML\n",
    "import os"
   ]
  },
  {
   "cell_type": "markdown",
   "id": "86e58bb3",
   "metadata": {},
   "source": [
    "## Conexión con la base de datos\n",
    "\n",
    "Parámetros de la conexión.\n",
    "- Server Host: 3.143.224.217\n",
    "- Port: 3306"
   ]
  },
  {
   "cell_type": "code",
   "execution_count": 2,
   "id": "ccf163f6",
   "metadata": {
    "ExecuteTime": {
     "end_time": "2021-06-09T16:18:56.212754Z",
     "start_time": "2021-06-09T16:18:53.611720Z"
    }
   },
   "outputs": [],
   "source": [
    "# cadena de conexión\n",
    "SQLServer='3.143.224.217'\n",
    "\n",
    "# instanciamos engine como resultado de create_engine\n",
    "con = create_engine(\"mysql+mysqlconnector://\"+os.environ['EASYMONEY_USERNAME']+\":\"+os.environ['EASYMONEY_PASSWORD']+\"@\"+SQLServer).connect()"
   ]
  },
  {
   "cell_type": "code",
   "execution_count": 3,
   "id": "5a5b5d9e",
   "metadata": {
    "ExecuteTime": {
     "end_time": "2021-06-09T16:18:56.576307Z",
     "start_time": "2021-06-09T16:18:56.216526Z"
    }
   },
   "outputs": [
    {
     "data": {
      "text/plain": [
       "[('information_schema',), ('mysql',), ('performance_schema',)]"
      ]
     },
     "execution_count": 3,
     "metadata": {},
     "output_type": "execute_result"
    }
   ],
   "source": [
    "# Consultar tablas de la base de datos\n",
    "query = con.execute('SHOW DATABASES').fetchall()\n",
    "query"
   ]
  },
  {
   "cell_type": "markdown",
   "id": "ff6a2327",
   "metadata": {},
   "source": [
    "## Cargar datos csv"
   ]
  },
  {
   "cell_type": "code",
   "execution_count": 4,
   "id": "54696cf8",
   "metadata": {
    "ExecuteTime": {
     "end_time": "2021-06-09T16:18:56.582577Z",
     "start_time": "2021-06-09T16:18:56.579129Z"
    }
   },
   "outputs": [],
   "source": [
    "file1 = 'data/raw_data/commercial_activity_df.csv'\n",
    "file2 = 'data/raw_data/products_df.csv'\n",
    "file3 = 'data/raw_data/sociodemographic_df.csv'"
   ]
  },
  {
   "cell_type": "code",
   "execution_count": 5,
   "id": "a46477f9",
   "metadata": {
    "ExecuteTime": {
     "end_time": "2021-06-09T16:19:06.145887Z",
     "start_time": "2021-06-09T16:18:56.585376Z"
    }
   },
   "outputs": [],
   "source": [
    "df_commercial_activity = pd.read_csv(file1, encoding='utf-8-sig', sep=',', index_col=False)\n",
    "df_products = pd.read_csv(file2, encoding='utf-8-sig', sep=',', index_col=False)\n",
    "df_sociodemographic = pd.read_csv(file3, encoding='utf-8-sig', sep=',', index_col=False)"
   ]
  },
  {
   "cell_type": "markdown",
   "id": "47e0038e",
   "metadata": {},
   "source": [
    "## Consultar los datasets"
   ]
  },
  {
   "cell_type": "markdown",
   "id": "9a951611",
   "metadata": {},
   "source": [
    "### Commercial activity"
   ]
  },
  {
   "cell_type": "code",
   "execution_count": 6,
   "id": "bc9bec75",
   "metadata": {
    "ExecuteTime": {
     "end_time": "2021-06-09T16:19:06.156078Z",
     "start_time": "2021-06-09T16:19:06.146810Z"
    }
   },
   "outputs": [
    {
     "data": {
      "text/html": [
       "<div>\n",
       "<style scoped>\n",
       "    .dataframe tbody tr th:only-of-type {\n",
       "        vertical-align: middle;\n",
       "    }\n",
       "\n",
       "    .dataframe tbody tr th {\n",
       "        vertical-align: top;\n",
       "    }\n",
       "\n",
       "    .dataframe thead th {\n",
       "        text-align: right;\n",
       "    }\n",
       "</style>\n",
       "<table border=\"1\" class=\"dataframe\">\n",
       "  <thead>\n",
       "    <tr style=\"text-align: right;\">\n",
       "      <th></th>\n",
       "      <th>Unnamed: 0</th>\n",
       "      <th>pk_cid</th>\n",
       "      <th>pk_partition</th>\n",
       "      <th>entry_date</th>\n",
       "      <th>entry_channel</th>\n",
       "      <th>active_customer</th>\n",
       "      <th>segment</th>\n",
       "    </tr>\n",
       "  </thead>\n",
       "  <tbody>\n",
       "    <tr>\n",
       "      <th>0</th>\n",
       "      <td>0</td>\n",
       "      <td>1375586</td>\n",
       "      <td>2018-01-28</td>\n",
       "      <td>2018-01-12</td>\n",
       "      <td>KHL</td>\n",
       "      <td>1.0</td>\n",
       "      <td>02 - PARTICULARES</td>\n",
       "    </tr>\n",
       "    <tr>\n",
       "      <th>1</th>\n",
       "      <td>1</td>\n",
       "      <td>1050611</td>\n",
       "      <td>2018-01-28</td>\n",
       "      <td>2015-08-10</td>\n",
       "      <td>KHE</td>\n",
       "      <td>0.0</td>\n",
       "      <td>03 - UNIVERSITARIO</td>\n",
       "    </tr>\n",
       "    <tr>\n",
       "      <th>2</th>\n",
       "      <td>2</td>\n",
       "      <td>1050612</td>\n",
       "      <td>2018-01-28</td>\n",
       "      <td>2015-08-10</td>\n",
       "      <td>KHE</td>\n",
       "      <td>0.0</td>\n",
       "      <td>03 - UNIVERSITARIO</td>\n",
       "    </tr>\n",
       "    <tr>\n",
       "      <th>3</th>\n",
       "      <td>3</td>\n",
       "      <td>1050613</td>\n",
       "      <td>2018-01-28</td>\n",
       "      <td>2015-08-10</td>\n",
       "      <td>KHD</td>\n",
       "      <td>0.0</td>\n",
       "      <td>03 - UNIVERSITARIO</td>\n",
       "    </tr>\n",
       "    <tr>\n",
       "      <th>4</th>\n",
       "      <td>4</td>\n",
       "      <td>1050614</td>\n",
       "      <td>2018-01-28</td>\n",
       "      <td>2015-08-10</td>\n",
       "      <td>KHE</td>\n",
       "      <td>1.0</td>\n",
       "      <td>03 - UNIVERSITARIO</td>\n",
       "    </tr>\n",
       "  </tbody>\n",
       "</table>\n",
       "</div>"
      ],
      "text/plain": [
       "   Unnamed: 0   pk_cid pk_partition  entry_date entry_channel  \\\n",
       "0           0  1375586   2018-01-28  2018-01-12           KHL   \n",
       "1           1  1050611   2018-01-28  2015-08-10           KHE   \n",
       "2           2  1050612   2018-01-28  2015-08-10           KHE   \n",
       "3           3  1050613   2018-01-28  2015-08-10           KHD   \n",
       "4           4  1050614   2018-01-28  2015-08-10           KHE   \n",
       "\n",
       "   active_customer             segment  \n",
       "0              1.0   02 - PARTICULARES  \n",
       "1              0.0  03 - UNIVERSITARIO  \n",
       "2              0.0  03 - UNIVERSITARIO  \n",
       "3              0.0  03 - UNIVERSITARIO  \n",
       "4              1.0  03 - UNIVERSITARIO  "
      ]
     },
     "execution_count": 6,
     "metadata": {},
     "output_type": "execute_result"
    }
   ],
   "source": [
    "df_commercial_activity.head()"
   ]
  },
  {
   "cell_type": "code",
   "execution_count": 7,
   "id": "d50336d3",
   "metadata": {
    "ExecuteTime": {
     "end_time": "2021-06-09T16:19:06.159237Z",
     "start_time": "2021-06-09T16:19:06.156947Z"
    }
   },
   "outputs": [
    {
     "data": {
      "text/plain": [
       "Index(['Unnamed: 0', 'pk_cid', 'pk_partition', 'entry_date', 'entry_channel',\n",
       "       'active_customer', 'segment'],\n",
       "      dtype='object')"
      ]
     },
     "execution_count": 7,
     "metadata": {},
     "output_type": "execute_result"
    }
   ],
   "source": [
    "df_commercial_activity.columns"
   ]
  },
  {
   "cell_type": "code",
   "execution_count": 8,
   "id": "4af087d0",
   "metadata": {
    "ExecuteTime": {
     "end_time": "2021-06-09T16:19:06.164886Z",
     "start_time": "2021-06-09T16:19:06.162504Z"
    }
   },
   "outputs": [
    {
     "data": {
      "text/plain": [
       "(5962924, 7)"
      ]
     },
     "execution_count": 8,
     "metadata": {},
     "output_type": "execute_result"
    }
   ],
   "source": [
    "df_commercial_activity.shape"
   ]
  },
  {
   "cell_type": "code",
   "execution_count": 9,
   "id": "35792398",
   "metadata": {
    "ExecuteTime": {
     "end_time": "2021-06-09T16:19:06.172281Z",
     "start_time": "2021-06-09T16:19:06.166559Z"
    }
   },
   "outputs": [
    {
     "name": "stdout",
     "output_type": "stream",
     "text": [
      "<class 'pandas.core.frame.DataFrame'>\n",
      "RangeIndex: 5962924 entries, 0 to 5962923\n",
      "Data columns (total 7 columns):\n",
      " #   Column           Dtype  \n",
      "---  ------           -----  \n",
      " 0   Unnamed: 0       int64  \n",
      " 1   pk_cid           int64  \n",
      " 2   pk_partition     object \n",
      " 3   entry_date       object \n",
      " 4   entry_channel    object \n",
      " 5   active_customer  float64\n",
      " 6   segment          object \n",
      "dtypes: float64(1), int64(2), object(4)\n",
      "memory usage: 318.5+ MB\n"
     ]
    }
   ],
   "source": [
    "df_commercial_activity.info()"
   ]
  },
  {
   "cell_type": "code",
   "execution_count": 10,
   "id": "a597ed10",
   "metadata": {
    "ExecuteTime": {
     "end_time": "2021-06-09T16:19:06.388638Z",
     "start_time": "2021-06-09T16:19:06.173185Z"
    }
   },
   "outputs": [
    {
     "data": {
      "text/html": [
       "<div>\n",
       "<style scoped>\n",
       "    .dataframe tbody tr th:only-of-type {\n",
       "        vertical-align: middle;\n",
       "    }\n",
       "\n",
       "    .dataframe tbody tr th {\n",
       "        vertical-align: top;\n",
       "    }\n",
       "\n",
       "    .dataframe thead th {\n",
       "        text-align: right;\n",
       "    }\n",
       "</style>\n",
       "<table border=\"1\" class=\"dataframe\">\n",
       "  <thead>\n",
       "    <tr style=\"text-align: right;\">\n",
       "      <th></th>\n",
       "      <th>count</th>\n",
       "      <th>mean</th>\n",
       "      <th>std</th>\n",
       "      <th>min</th>\n",
       "      <th>25%</th>\n",
       "      <th>50%</th>\n",
       "      <th>75%</th>\n",
       "      <th>max</th>\n",
       "    </tr>\n",
       "  </thead>\n",
       "  <tbody>\n",
       "    <tr>\n",
       "      <th>Unnamed: 0</th>\n",
       "      <td>5962924.0</td>\n",
       "      <td>7.155425e+06</td>\n",
       "      <td>3.920784e+06</td>\n",
       "      <td>0.0</td>\n",
       "      <td>4240385.75</td>\n",
       "      <td>7499346.5</td>\n",
       "      <td>10201422.25</td>\n",
       "      <td>13647308.0</td>\n",
       "    </tr>\n",
       "    <tr>\n",
       "      <th>pk_cid</th>\n",
       "      <td>5962924.0</td>\n",
       "      <td>1.234930e+06</td>\n",
       "      <td>1.623020e+05</td>\n",
       "      <td>15891.0</td>\n",
       "      <td>1112532.00</td>\n",
       "      <td>1231097.0</td>\n",
       "      <td>1352339.00</td>\n",
       "      <td>1553689.0</td>\n",
       "    </tr>\n",
       "    <tr>\n",
       "      <th>active_customer</th>\n",
       "      <td>5962924.0</td>\n",
       "      <td>4.033845e-01</td>\n",
       "      <td>4.905767e-01</td>\n",
       "      <td>0.0</td>\n",
       "      <td>0.00</td>\n",
       "      <td>0.0</td>\n",
       "      <td>1.00</td>\n",
       "      <td>1.0</td>\n",
       "    </tr>\n",
       "  </tbody>\n",
       "</table>\n",
       "</div>"
      ],
      "text/plain": [
       "                     count          mean           std      min         25%  \\\n",
       "Unnamed: 0       5962924.0  7.155425e+06  3.920784e+06      0.0  4240385.75   \n",
       "pk_cid           5962924.0  1.234930e+06  1.623020e+05  15891.0  1112532.00   \n",
       "active_customer  5962924.0  4.033845e-01  4.905767e-01      0.0        0.00   \n",
       "\n",
       "                       50%          75%         max  \n",
       "Unnamed: 0       7499346.5  10201422.25  13647308.0  \n",
       "pk_cid           1231097.0   1352339.00   1553689.0  \n",
       "active_customer        0.0         1.00         1.0  "
      ]
     },
     "execution_count": 10,
     "metadata": {},
     "output_type": "execute_result"
    }
   ],
   "source": [
    "df_commercial_activity.describe().T"
   ]
  },
  {
   "cell_type": "markdown",
   "id": "4f626817",
   "metadata": {},
   "source": [
    "### Procuts"
   ]
  },
  {
   "cell_type": "code",
   "execution_count": 11,
   "id": "419937d8",
   "metadata": {
    "ExecuteTime": {
     "end_time": "2021-06-09T16:19:06.396858Z",
     "start_time": "2021-06-09T16:19:06.389555Z"
    }
   },
   "outputs": [
    {
     "data": {
      "text/html": [
       "<div>\n",
       "<style scoped>\n",
       "    .dataframe tbody tr th:only-of-type {\n",
       "        vertical-align: middle;\n",
       "    }\n",
       "\n",
       "    .dataframe tbody tr th {\n",
       "        vertical-align: top;\n",
       "    }\n",
       "\n",
       "    .dataframe thead th {\n",
       "        text-align: right;\n",
       "    }\n",
       "</style>\n",
       "<table border=\"1\" class=\"dataframe\">\n",
       "  <thead>\n",
       "    <tr style=\"text-align: right;\">\n",
       "      <th></th>\n",
       "      <th>Unnamed: 0</th>\n",
       "      <th>pk_cid</th>\n",
       "      <th>pk_partition</th>\n",
       "      <th>short_term_deposit</th>\n",
       "      <th>loans</th>\n",
       "      <th>mortgage</th>\n",
       "      <th>funds</th>\n",
       "      <th>securities</th>\n",
       "      <th>long_term_deposit</th>\n",
       "      <th>em_account_pp</th>\n",
       "      <th>credit_card</th>\n",
       "      <th>payroll</th>\n",
       "      <th>pension_plan</th>\n",
       "      <th>payroll_account</th>\n",
       "      <th>emc_account</th>\n",
       "      <th>debit_card</th>\n",
       "      <th>em_account_p</th>\n",
       "      <th>em_acount</th>\n",
       "    </tr>\n",
       "  </thead>\n",
       "  <tbody>\n",
       "    <tr>\n",
       "      <th>0</th>\n",
       "      <td>0</td>\n",
       "      <td>1375586</td>\n",
       "      <td>2018-01-28</td>\n",
       "      <td>0</td>\n",
       "      <td>0</td>\n",
       "      <td>0</td>\n",
       "      <td>0</td>\n",
       "      <td>0</td>\n",
       "      <td>0</td>\n",
       "      <td>0</td>\n",
       "      <td>0</td>\n",
       "      <td>0.0</td>\n",
       "      <td>0.0</td>\n",
       "      <td>0</td>\n",
       "      <td>0</td>\n",
       "      <td>0</td>\n",
       "      <td>0</td>\n",
       "      <td>1</td>\n",
       "    </tr>\n",
       "    <tr>\n",
       "      <th>1</th>\n",
       "      <td>1</td>\n",
       "      <td>1050611</td>\n",
       "      <td>2018-01-28</td>\n",
       "      <td>0</td>\n",
       "      <td>0</td>\n",
       "      <td>0</td>\n",
       "      <td>0</td>\n",
       "      <td>0</td>\n",
       "      <td>0</td>\n",
       "      <td>0</td>\n",
       "      <td>0</td>\n",
       "      <td>0.0</td>\n",
       "      <td>0.0</td>\n",
       "      <td>0</td>\n",
       "      <td>0</td>\n",
       "      <td>0</td>\n",
       "      <td>0</td>\n",
       "      <td>1</td>\n",
       "    </tr>\n",
       "    <tr>\n",
       "      <th>2</th>\n",
       "      <td>2</td>\n",
       "      <td>1050612</td>\n",
       "      <td>2018-01-28</td>\n",
       "      <td>0</td>\n",
       "      <td>0</td>\n",
       "      <td>0</td>\n",
       "      <td>0</td>\n",
       "      <td>0</td>\n",
       "      <td>0</td>\n",
       "      <td>0</td>\n",
       "      <td>0</td>\n",
       "      <td>0.0</td>\n",
       "      <td>0.0</td>\n",
       "      <td>0</td>\n",
       "      <td>0</td>\n",
       "      <td>0</td>\n",
       "      <td>0</td>\n",
       "      <td>1</td>\n",
       "    </tr>\n",
       "    <tr>\n",
       "      <th>3</th>\n",
       "      <td>3</td>\n",
       "      <td>1050613</td>\n",
       "      <td>2018-01-28</td>\n",
       "      <td>1</td>\n",
       "      <td>0</td>\n",
       "      <td>0</td>\n",
       "      <td>0</td>\n",
       "      <td>0</td>\n",
       "      <td>0</td>\n",
       "      <td>0</td>\n",
       "      <td>0</td>\n",
       "      <td>0.0</td>\n",
       "      <td>0.0</td>\n",
       "      <td>0</td>\n",
       "      <td>0</td>\n",
       "      <td>0</td>\n",
       "      <td>0</td>\n",
       "      <td>0</td>\n",
       "    </tr>\n",
       "    <tr>\n",
       "      <th>4</th>\n",
       "      <td>4</td>\n",
       "      <td>1050614</td>\n",
       "      <td>2018-01-28</td>\n",
       "      <td>0</td>\n",
       "      <td>0</td>\n",
       "      <td>0</td>\n",
       "      <td>0</td>\n",
       "      <td>0</td>\n",
       "      <td>0</td>\n",
       "      <td>0</td>\n",
       "      <td>0</td>\n",
       "      <td>0.0</td>\n",
       "      <td>0.0</td>\n",
       "      <td>0</td>\n",
       "      <td>0</td>\n",
       "      <td>0</td>\n",
       "      <td>0</td>\n",
       "      <td>1</td>\n",
       "    </tr>\n",
       "  </tbody>\n",
       "</table>\n",
       "</div>"
      ],
      "text/plain": [
       "   Unnamed: 0   pk_cid pk_partition  short_term_deposit  loans  mortgage  \\\n",
       "0           0  1375586   2018-01-28                   0      0         0   \n",
       "1           1  1050611   2018-01-28                   0      0         0   \n",
       "2           2  1050612   2018-01-28                   0      0         0   \n",
       "3           3  1050613   2018-01-28                   1      0         0   \n",
       "4           4  1050614   2018-01-28                   0      0         0   \n",
       "\n",
       "   funds  securities  long_term_deposit  em_account_pp  credit_card  payroll  \\\n",
       "0      0           0                  0              0            0      0.0   \n",
       "1      0           0                  0              0            0      0.0   \n",
       "2      0           0                  0              0            0      0.0   \n",
       "3      0           0                  0              0            0      0.0   \n",
       "4      0           0                  0              0            0      0.0   \n",
       "\n",
       "   pension_plan  payroll_account  emc_account  debit_card  em_account_p  \\\n",
       "0           0.0                0            0           0             0   \n",
       "1           0.0                0            0           0             0   \n",
       "2           0.0                0            0           0             0   \n",
       "3           0.0                0            0           0             0   \n",
       "4           0.0                0            0           0             0   \n",
       "\n",
       "   em_acount  \n",
       "0          1  \n",
       "1          1  \n",
       "2          1  \n",
       "3          0  \n",
       "4          1  "
      ]
     },
     "execution_count": 11,
     "metadata": {},
     "output_type": "execute_result"
    }
   ],
   "source": [
    "df_products.head()"
   ]
  },
  {
   "cell_type": "code",
   "execution_count": 12,
   "id": "e464b90f",
   "metadata": {
    "ExecuteTime": {
     "end_time": "2021-06-09T16:19:06.400546Z",
     "start_time": "2021-06-09T16:19:06.397965Z"
    }
   },
   "outputs": [
    {
     "data": {
      "text/plain": [
       "Index(['Unnamed: 0', 'pk_cid', 'pk_partition', 'short_term_deposit', 'loans',\n",
       "       'mortgage', 'funds', 'securities', 'long_term_deposit', 'em_account_pp',\n",
       "       'credit_card', 'payroll', 'pension_plan', 'payroll_account',\n",
       "       'emc_account', 'debit_card', 'em_account_p', 'em_acount'],\n",
       "      dtype='object')"
      ]
     },
     "execution_count": 12,
     "metadata": {},
     "output_type": "execute_result"
    }
   ],
   "source": [
    "df_products.columns"
   ]
  },
  {
   "cell_type": "code",
   "execution_count": 13,
   "id": "0af7468d",
   "metadata": {
    "ExecuteTime": {
     "end_time": "2021-06-09T16:19:06.403746Z",
     "start_time": "2021-06-09T16:19:06.401506Z"
    }
   },
   "outputs": [
    {
     "data": {
      "text/plain": [
       "(5962924, 18)"
      ]
     },
     "execution_count": 13,
     "metadata": {},
     "output_type": "execute_result"
    }
   ],
   "source": [
    "df_products.shape"
   ]
  },
  {
   "cell_type": "code",
   "execution_count": 14,
   "id": "13d2c939",
   "metadata": {
    "ExecuteTime": {
     "end_time": "2021-06-09T16:19:06.410551Z",
     "start_time": "2021-06-09T16:19:06.404842Z"
    }
   },
   "outputs": [
    {
     "name": "stdout",
     "output_type": "stream",
     "text": [
      "<class 'pandas.core.frame.DataFrame'>\n",
      "RangeIndex: 5962924 entries, 0 to 5962923\n",
      "Data columns (total 18 columns):\n",
      " #   Column              Dtype  \n",
      "---  ------              -----  \n",
      " 0   Unnamed: 0          int64  \n",
      " 1   pk_cid              int64  \n",
      " 2   pk_partition        object \n",
      " 3   short_term_deposit  int64  \n",
      " 4   loans               int64  \n",
      " 5   mortgage            int64  \n",
      " 6   funds               int64  \n",
      " 7   securities          int64  \n",
      " 8   long_term_deposit   int64  \n",
      " 9   em_account_pp       int64  \n",
      " 10  credit_card         int64  \n",
      " 11  payroll             float64\n",
      " 12  pension_plan        float64\n",
      " 13  payroll_account     int64  \n",
      " 14  emc_account         int64  \n",
      " 15  debit_card          int64  \n",
      " 16  em_account_p        int64  \n",
      " 17  em_acount           int64  \n",
      "dtypes: float64(2), int64(15), object(1)\n",
      "memory usage: 818.9+ MB\n"
     ]
    }
   ],
   "source": [
    "df_products.info()"
   ]
  },
  {
   "cell_type": "code",
   "execution_count": 15,
   "id": "92b9fa50",
   "metadata": {
    "ExecuteTime": {
     "end_time": "2021-06-09T16:19:07.376666Z",
     "start_time": "2021-06-09T16:19:06.411455Z"
    }
   },
   "outputs": [
    {
     "data": {
      "text/html": [
       "<div>\n",
       "<style scoped>\n",
       "    .dataframe tbody tr th:only-of-type {\n",
       "        vertical-align: middle;\n",
       "    }\n",
       "\n",
       "    .dataframe tbody tr th {\n",
       "        vertical-align: top;\n",
       "    }\n",
       "\n",
       "    .dataframe thead th {\n",
       "        text-align: right;\n",
       "    }\n",
       "</style>\n",
       "<table border=\"1\" class=\"dataframe\">\n",
       "  <thead>\n",
       "    <tr style=\"text-align: right;\">\n",
       "      <th></th>\n",
       "      <th>count</th>\n",
       "      <th>mean</th>\n",
       "      <th>std</th>\n",
       "      <th>min</th>\n",
       "      <th>25%</th>\n",
       "      <th>50%</th>\n",
       "      <th>75%</th>\n",
       "      <th>max</th>\n",
       "    </tr>\n",
       "  </thead>\n",
       "  <tbody>\n",
       "    <tr>\n",
       "      <th>Unnamed: 0</th>\n",
       "      <td>5962924.0</td>\n",
       "      <td>7.155425e+06</td>\n",
       "      <td>3.920784e+06</td>\n",
       "      <td>0.0</td>\n",
       "      <td>4240385.75</td>\n",
       "      <td>7499346.5</td>\n",
       "      <td>10201422.25</td>\n",
       "      <td>13647308.0</td>\n",
       "    </tr>\n",
       "    <tr>\n",
       "      <th>pk_cid</th>\n",
       "      <td>5962924.0</td>\n",
       "      <td>1.234930e+06</td>\n",
       "      <td>1.623020e+05</td>\n",
       "      <td>15891.0</td>\n",
       "      <td>1112532.00</td>\n",
       "      <td>1231097.0</td>\n",
       "      <td>1352339.00</td>\n",
       "      <td>1553689.0</td>\n",
       "    </tr>\n",
       "    <tr>\n",
       "      <th>short_term_deposit</th>\n",
       "      <td>5962924.0</td>\n",
       "      <td>2.581619e-03</td>\n",
       "      <td>5.074401e-02</td>\n",
       "      <td>0.0</td>\n",
       "      <td>0.00</td>\n",
       "      <td>0.0</td>\n",
       "      <td>0.00</td>\n",
       "      <td>1.0</td>\n",
       "    </tr>\n",
       "    <tr>\n",
       "      <th>loans</th>\n",
       "      <td>5962924.0</td>\n",
       "      <td>7.848498e-05</td>\n",
       "      <td>8.858828e-03</td>\n",
       "      <td>0.0</td>\n",
       "      <td>0.00</td>\n",
       "      <td>0.0</td>\n",
       "      <td>0.00</td>\n",
       "      <td>1.0</td>\n",
       "    </tr>\n",
       "    <tr>\n",
       "      <th>mortgage</th>\n",
       "      <td>5962924.0</td>\n",
       "      <td>5.433576e-05</td>\n",
       "      <td>7.371080e-03</td>\n",
       "      <td>0.0</td>\n",
       "      <td>0.00</td>\n",
       "      <td>0.0</td>\n",
       "      <td>0.00</td>\n",
       "      <td>1.0</td>\n",
       "    </tr>\n",
       "    <tr>\n",
       "      <th>funds</th>\n",
       "      <td>5962924.0</td>\n",
       "      <td>3.370662e-03</td>\n",
       "      <td>5.795948e-02</td>\n",
       "      <td>0.0</td>\n",
       "      <td>0.00</td>\n",
       "      <td>0.0</td>\n",
       "      <td>0.00</td>\n",
       "      <td>1.0</td>\n",
       "    </tr>\n",
       "    <tr>\n",
       "      <th>securities</th>\n",
       "      <td>5962924.0</td>\n",
       "      <td>3.711770e-03</td>\n",
       "      <td>6.081113e-02</td>\n",
       "      <td>0.0</td>\n",
       "      <td>0.00</td>\n",
       "      <td>0.0</td>\n",
       "      <td>0.00</td>\n",
       "      <td>1.0</td>\n",
       "    </tr>\n",
       "    <tr>\n",
       "      <th>long_term_deposit</th>\n",
       "      <td>5962924.0</td>\n",
       "      <td>1.688098e-02</td>\n",
       "      <td>1.288255e-01</td>\n",
       "      <td>0.0</td>\n",
       "      <td>0.00</td>\n",
       "      <td>0.0</td>\n",
       "      <td>0.00</td>\n",
       "      <td>1.0</td>\n",
       "    </tr>\n",
       "    <tr>\n",
       "      <th>em_account_pp</th>\n",
       "      <td>5962924.0</td>\n",
       "      <td>0.000000e+00</td>\n",
       "      <td>0.000000e+00</td>\n",
       "      <td>0.0</td>\n",
       "      <td>0.00</td>\n",
       "      <td>0.0</td>\n",
       "      <td>0.00</td>\n",
       "      <td>0.0</td>\n",
       "    </tr>\n",
       "    <tr>\n",
       "      <th>credit_card</th>\n",
       "      <td>5962924.0</td>\n",
       "      <td>1.188444e-02</td>\n",
       "      <td>1.083660e-01</td>\n",
       "      <td>0.0</td>\n",
       "      <td>0.00</td>\n",
       "      <td>0.0</td>\n",
       "      <td>0.00</td>\n",
       "      <td>1.0</td>\n",
       "    </tr>\n",
       "    <tr>\n",
       "      <th>payroll</th>\n",
       "      <td>5962863.0</td>\n",
       "      <td>3.451144e-02</td>\n",
       "      <td>1.825388e-01</td>\n",
       "      <td>0.0</td>\n",
       "      <td>0.00</td>\n",
       "      <td>0.0</td>\n",
       "      <td>0.00</td>\n",
       "      <td>1.0</td>\n",
       "    </tr>\n",
       "    <tr>\n",
       "      <th>pension_plan</th>\n",
       "      <td>5962863.0</td>\n",
       "      <td>3.652641e-02</td>\n",
       "      <td>1.875960e-01</td>\n",
       "      <td>0.0</td>\n",
       "      <td>0.00</td>\n",
       "      <td>0.0</td>\n",
       "      <td>0.00</td>\n",
       "      <td>1.0</td>\n",
       "    </tr>\n",
       "    <tr>\n",
       "      <th>payroll_account</th>\n",
       "      <td>5962924.0</td>\n",
       "      <td>5.524471e-02</td>\n",
       "      <td>2.284573e-01</td>\n",
       "      <td>0.0</td>\n",
       "      <td>0.00</td>\n",
       "      <td>0.0</td>\n",
       "      <td>0.00</td>\n",
       "      <td>1.0</td>\n",
       "    </tr>\n",
       "    <tr>\n",
       "      <th>emc_account</th>\n",
       "      <td>5962924.0</td>\n",
       "      <td>5.483233e-02</td>\n",
       "      <td>2.276527e-01</td>\n",
       "      <td>0.0</td>\n",
       "      <td>0.00</td>\n",
       "      <td>0.0</td>\n",
       "      <td>0.00</td>\n",
       "      <td>1.0</td>\n",
       "    </tr>\n",
       "    <tr>\n",
       "      <th>debit_card</th>\n",
       "      <td>5962924.0</td>\n",
       "      <td>9.441140e-02</td>\n",
       "      <td>2.924002e-01</td>\n",
       "      <td>0.0</td>\n",
       "      <td>0.00</td>\n",
       "      <td>0.0</td>\n",
       "      <td>0.00</td>\n",
       "      <td>1.0</td>\n",
       "    </tr>\n",
       "    <tr>\n",
       "      <th>em_account_p</th>\n",
       "      <td>5962924.0</td>\n",
       "      <td>5.701901e-06</td>\n",
       "      <td>2.387859e-03</td>\n",
       "      <td>0.0</td>\n",
       "      <td>0.00</td>\n",
       "      <td>0.0</td>\n",
       "      <td>0.00</td>\n",
       "      <td>1.0</td>\n",
       "    </tr>\n",
       "    <tr>\n",
       "      <th>em_acount</th>\n",
       "      <td>5962924.0</td>\n",
       "      <td>7.348076e-01</td>\n",
       "      <td>4.414356e-01</td>\n",
       "      <td>0.0</td>\n",
       "      <td>0.00</td>\n",
       "      <td>1.0</td>\n",
       "      <td>1.00</td>\n",
       "      <td>1.0</td>\n",
       "    </tr>\n",
       "  </tbody>\n",
       "</table>\n",
       "</div>"
      ],
      "text/plain": [
       "                        count          mean           std      min  \\\n",
       "Unnamed: 0          5962924.0  7.155425e+06  3.920784e+06      0.0   \n",
       "pk_cid              5962924.0  1.234930e+06  1.623020e+05  15891.0   \n",
       "short_term_deposit  5962924.0  2.581619e-03  5.074401e-02      0.0   \n",
       "loans               5962924.0  7.848498e-05  8.858828e-03      0.0   \n",
       "mortgage            5962924.0  5.433576e-05  7.371080e-03      0.0   \n",
       "funds               5962924.0  3.370662e-03  5.795948e-02      0.0   \n",
       "securities          5962924.0  3.711770e-03  6.081113e-02      0.0   \n",
       "long_term_deposit   5962924.0  1.688098e-02  1.288255e-01      0.0   \n",
       "em_account_pp       5962924.0  0.000000e+00  0.000000e+00      0.0   \n",
       "credit_card         5962924.0  1.188444e-02  1.083660e-01      0.0   \n",
       "payroll             5962863.0  3.451144e-02  1.825388e-01      0.0   \n",
       "pension_plan        5962863.0  3.652641e-02  1.875960e-01      0.0   \n",
       "payroll_account     5962924.0  5.524471e-02  2.284573e-01      0.0   \n",
       "emc_account         5962924.0  5.483233e-02  2.276527e-01      0.0   \n",
       "debit_card          5962924.0  9.441140e-02  2.924002e-01      0.0   \n",
       "em_account_p        5962924.0  5.701901e-06  2.387859e-03      0.0   \n",
       "em_acount           5962924.0  7.348076e-01  4.414356e-01      0.0   \n",
       "\n",
       "                           25%        50%          75%         max  \n",
       "Unnamed: 0          4240385.75  7499346.5  10201422.25  13647308.0  \n",
       "pk_cid              1112532.00  1231097.0   1352339.00   1553689.0  \n",
       "short_term_deposit        0.00        0.0         0.00         1.0  \n",
       "loans                     0.00        0.0         0.00         1.0  \n",
       "mortgage                  0.00        0.0         0.00         1.0  \n",
       "funds                     0.00        0.0         0.00         1.0  \n",
       "securities                0.00        0.0         0.00         1.0  \n",
       "long_term_deposit         0.00        0.0         0.00         1.0  \n",
       "em_account_pp             0.00        0.0         0.00         0.0  \n",
       "credit_card               0.00        0.0         0.00         1.0  \n",
       "payroll                   0.00        0.0         0.00         1.0  \n",
       "pension_plan              0.00        0.0         0.00         1.0  \n",
       "payroll_account           0.00        0.0         0.00         1.0  \n",
       "emc_account               0.00        0.0         0.00         1.0  \n",
       "debit_card                0.00        0.0         0.00         1.0  \n",
       "em_account_p              0.00        0.0         0.00         1.0  \n",
       "em_acount                 0.00        1.0         1.00         1.0  "
      ]
     },
     "execution_count": 15,
     "metadata": {},
     "output_type": "execute_result"
    }
   ],
   "source": [
    "df_products.describe().T"
   ]
  },
  {
   "cell_type": "markdown",
   "id": "8daf9d0a",
   "metadata": {},
   "source": [
    "## Sociodemographic"
   ]
  },
  {
   "cell_type": "code",
   "execution_count": 16,
   "id": "1157ea5a",
   "metadata": {
    "ExecuteTime": {
     "end_time": "2021-06-09T16:19:07.383438Z",
     "start_time": "2021-06-09T16:19:07.377610Z"
    }
   },
   "outputs": [
    {
     "data": {
      "text/html": [
       "<div>\n",
       "<style scoped>\n",
       "    .dataframe tbody tr th:only-of-type {\n",
       "        vertical-align: middle;\n",
       "    }\n",
       "\n",
       "    .dataframe tbody tr th {\n",
       "        vertical-align: top;\n",
       "    }\n",
       "\n",
       "    .dataframe thead th {\n",
       "        text-align: right;\n",
       "    }\n",
       "</style>\n",
       "<table border=\"1\" class=\"dataframe\">\n",
       "  <thead>\n",
       "    <tr style=\"text-align: right;\">\n",
       "      <th></th>\n",
       "      <th>Unnamed: 0</th>\n",
       "      <th>pk_cid</th>\n",
       "      <th>pk_partition</th>\n",
       "      <th>country_id</th>\n",
       "      <th>region_code</th>\n",
       "      <th>gender</th>\n",
       "      <th>age</th>\n",
       "      <th>deceased</th>\n",
       "      <th>salary</th>\n",
       "    </tr>\n",
       "  </thead>\n",
       "  <tbody>\n",
       "    <tr>\n",
       "      <th>0</th>\n",
       "      <td>0</td>\n",
       "      <td>1375586</td>\n",
       "      <td>2018-01-28</td>\n",
       "      <td>ES</td>\n",
       "      <td>29.0</td>\n",
       "      <td>H</td>\n",
       "      <td>35</td>\n",
       "      <td>N</td>\n",
       "      <td>87218.10</td>\n",
       "    </tr>\n",
       "    <tr>\n",
       "      <th>1</th>\n",
       "      <td>1</td>\n",
       "      <td>1050611</td>\n",
       "      <td>2018-01-28</td>\n",
       "      <td>ES</td>\n",
       "      <td>13.0</td>\n",
       "      <td>V</td>\n",
       "      <td>23</td>\n",
       "      <td>N</td>\n",
       "      <td>35548.74</td>\n",
       "    </tr>\n",
       "    <tr>\n",
       "      <th>2</th>\n",
       "      <td>2</td>\n",
       "      <td>1050612</td>\n",
       "      <td>2018-01-28</td>\n",
       "      <td>ES</td>\n",
       "      <td>13.0</td>\n",
       "      <td>V</td>\n",
       "      <td>23</td>\n",
       "      <td>N</td>\n",
       "      <td>122179.11</td>\n",
       "    </tr>\n",
       "    <tr>\n",
       "      <th>3</th>\n",
       "      <td>3</td>\n",
       "      <td>1050613</td>\n",
       "      <td>2018-01-28</td>\n",
       "      <td>ES</td>\n",
       "      <td>50.0</td>\n",
       "      <td>H</td>\n",
       "      <td>22</td>\n",
       "      <td>N</td>\n",
       "      <td>119775.54</td>\n",
       "    </tr>\n",
       "    <tr>\n",
       "      <th>4</th>\n",
       "      <td>4</td>\n",
       "      <td>1050614</td>\n",
       "      <td>2018-01-28</td>\n",
       "      <td>ES</td>\n",
       "      <td>50.0</td>\n",
       "      <td>V</td>\n",
       "      <td>23</td>\n",
       "      <td>N</td>\n",
       "      <td>NaN</td>\n",
       "    </tr>\n",
       "  </tbody>\n",
       "</table>\n",
       "</div>"
      ],
      "text/plain": [
       "   Unnamed: 0   pk_cid pk_partition country_id  region_code gender  age  \\\n",
       "0           0  1375586   2018-01-28         ES         29.0      H   35   \n",
       "1           1  1050611   2018-01-28         ES         13.0      V   23   \n",
       "2           2  1050612   2018-01-28         ES         13.0      V   23   \n",
       "3           3  1050613   2018-01-28         ES         50.0      H   22   \n",
       "4           4  1050614   2018-01-28         ES         50.0      V   23   \n",
       "\n",
       "  deceased     salary  \n",
       "0        N   87218.10  \n",
       "1        N   35548.74  \n",
       "2        N  122179.11  \n",
       "3        N  119775.54  \n",
       "4        N        NaN  "
      ]
     },
     "execution_count": 16,
     "metadata": {},
     "output_type": "execute_result"
    }
   ],
   "source": [
    "df_sociodemographic.head()"
   ]
  },
  {
   "cell_type": "code",
   "execution_count": 17,
   "id": "9456bdee",
   "metadata": {
    "ExecuteTime": {
     "end_time": "2021-06-09T16:19:07.386397Z",
     "start_time": "2021-06-09T16:19:07.384257Z"
    }
   },
   "outputs": [
    {
     "data": {
      "text/plain": [
       "Index(['Unnamed: 0', 'pk_cid', 'pk_partition', 'short_term_deposit', 'loans',\n",
       "       'mortgage', 'funds', 'securities', 'long_term_deposit', 'em_account_pp',\n",
       "       'credit_card', 'payroll', 'pension_plan', 'payroll_account',\n",
       "       'emc_account', 'debit_card', 'em_account_p', 'em_acount'],\n",
       "      dtype='object')"
      ]
     },
     "execution_count": 17,
     "metadata": {},
     "output_type": "execute_result"
    }
   ],
   "source": [
    "df_products.columns"
   ]
  },
  {
   "cell_type": "code",
   "execution_count": 18,
   "id": "97c713fb",
   "metadata": {
    "ExecuteTime": {
     "end_time": "2021-06-09T16:19:07.389561Z",
     "start_time": "2021-06-09T16:19:07.387455Z"
    }
   },
   "outputs": [
    {
     "data": {
      "text/plain": [
       "(5962924, 18)"
      ]
     },
     "execution_count": 18,
     "metadata": {},
     "output_type": "execute_result"
    }
   ],
   "source": [
    "df_products.shape"
   ]
  },
  {
   "cell_type": "code",
   "execution_count": 19,
   "id": "caa3accb",
   "metadata": {
    "ExecuteTime": {
     "end_time": "2021-06-09T16:19:07.395302Z",
     "start_time": "2021-06-09T16:19:07.390454Z"
    }
   },
   "outputs": [
    {
     "name": "stdout",
     "output_type": "stream",
     "text": [
      "<class 'pandas.core.frame.DataFrame'>\n",
      "RangeIndex: 5962924 entries, 0 to 5962923\n",
      "Data columns (total 18 columns):\n",
      " #   Column              Dtype  \n",
      "---  ------              -----  \n",
      " 0   Unnamed: 0          int64  \n",
      " 1   pk_cid              int64  \n",
      " 2   pk_partition        object \n",
      " 3   short_term_deposit  int64  \n",
      " 4   loans               int64  \n",
      " 5   mortgage            int64  \n",
      " 6   funds               int64  \n",
      " 7   securities          int64  \n",
      " 8   long_term_deposit   int64  \n",
      " 9   em_account_pp       int64  \n",
      " 10  credit_card         int64  \n",
      " 11  payroll             float64\n",
      " 12  pension_plan        float64\n",
      " 13  payroll_account     int64  \n",
      " 14  emc_account         int64  \n",
      " 15  debit_card          int64  \n",
      " 16  em_account_p        int64  \n",
      " 17  em_acount           int64  \n",
      "dtypes: float64(2), int64(15), object(1)\n",
      "memory usage: 818.9+ MB\n"
     ]
    }
   ],
   "source": [
    "df_products.info()"
   ]
  },
  {
   "cell_type": "code",
   "execution_count": 20,
   "id": "c152cee2",
   "metadata": {
    "ExecuteTime": {
     "end_time": "2021-06-09T16:19:08.364993Z",
     "start_time": "2021-06-09T16:19:07.396263Z"
    }
   },
   "outputs": [
    {
     "data": {
      "text/html": [
       "<div>\n",
       "<style scoped>\n",
       "    .dataframe tbody tr th:only-of-type {\n",
       "        vertical-align: middle;\n",
       "    }\n",
       "\n",
       "    .dataframe tbody tr th {\n",
       "        vertical-align: top;\n",
       "    }\n",
       "\n",
       "    .dataframe thead th {\n",
       "        text-align: right;\n",
       "    }\n",
       "</style>\n",
       "<table border=\"1\" class=\"dataframe\">\n",
       "  <thead>\n",
       "    <tr style=\"text-align: right;\">\n",
       "      <th></th>\n",
       "      <th>count</th>\n",
       "      <th>mean</th>\n",
       "      <th>std</th>\n",
       "      <th>min</th>\n",
       "      <th>25%</th>\n",
       "      <th>50%</th>\n",
       "      <th>75%</th>\n",
       "      <th>max</th>\n",
       "    </tr>\n",
       "  </thead>\n",
       "  <tbody>\n",
       "    <tr>\n",
       "      <th>Unnamed: 0</th>\n",
       "      <td>5962924.0</td>\n",
       "      <td>7.155425e+06</td>\n",
       "      <td>3.920784e+06</td>\n",
       "      <td>0.0</td>\n",
       "      <td>4240385.75</td>\n",
       "      <td>7499346.5</td>\n",
       "      <td>10201422.25</td>\n",
       "      <td>13647308.0</td>\n",
       "    </tr>\n",
       "    <tr>\n",
       "      <th>pk_cid</th>\n",
       "      <td>5962924.0</td>\n",
       "      <td>1.234930e+06</td>\n",
       "      <td>1.623020e+05</td>\n",
       "      <td>15891.0</td>\n",
       "      <td>1112532.00</td>\n",
       "      <td>1231097.0</td>\n",
       "      <td>1352339.00</td>\n",
       "      <td>1553689.0</td>\n",
       "    </tr>\n",
       "    <tr>\n",
       "      <th>short_term_deposit</th>\n",
       "      <td>5962924.0</td>\n",
       "      <td>2.581619e-03</td>\n",
       "      <td>5.074401e-02</td>\n",
       "      <td>0.0</td>\n",
       "      <td>0.00</td>\n",
       "      <td>0.0</td>\n",
       "      <td>0.00</td>\n",
       "      <td>1.0</td>\n",
       "    </tr>\n",
       "    <tr>\n",
       "      <th>loans</th>\n",
       "      <td>5962924.0</td>\n",
       "      <td>7.848498e-05</td>\n",
       "      <td>8.858828e-03</td>\n",
       "      <td>0.0</td>\n",
       "      <td>0.00</td>\n",
       "      <td>0.0</td>\n",
       "      <td>0.00</td>\n",
       "      <td>1.0</td>\n",
       "    </tr>\n",
       "    <tr>\n",
       "      <th>mortgage</th>\n",
       "      <td>5962924.0</td>\n",
       "      <td>5.433576e-05</td>\n",
       "      <td>7.371080e-03</td>\n",
       "      <td>0.0</td>\n",
       "      <td>0.00</td>\n",
       "      <td>0.0</td>\n",
       "      <td>0.00</td>\n",
       "      <td>1.0</td>\n",
       "    </tr>\n",
       "    <tr>\n",
       "      <th>funds</th>\n",
       "      <td>5962924.0</td>\n",
       "      <td>3.370662e-03</td>\n",
       "      <td>5.795948e-02</td>\n",
       "      <td>0.0</td>\n",
       "      <td>0.00</td>\n",
       "      <td>0.0</td>\n",
       "      <td>0.00</td>\n",
       "      <td>1.0</td>\n",
       "    </tr>\n",
       "    <tr>\n",
       "      <th>securities</th>\n",
       "      <td>5962924.0</td>\n",
       "      <td>3.711770e-03</td>\n",
       "      <td>6.081113e-02</td>\n",
       "      <td>0.0</td>\n",
       "      <td>0.00</td>\n",
       "      <td>0.0</td>\n",
       "      <td>0.00</td>\n",
       "      <td>1.0</td>\n",
       "    </tr>\n",
       "    <tr>\n",
       "      <th>long_term_deposit</th>\n",
       "      <td>5962924.0</td>\n",
       "      <td>1.688098e-02</td>\n",
       "      <td>1.288255e-01</td>\n",
       "      <td>0.0</td>\n",
       "      <td>0.00</td>\n",
       "      <td>0.0</td>\n",
       "      <td>0.00</td>\n",
       "      <td>1.0</td>\n",
       "    </tr>\n",
       "    <tr>\n",
       "      <th>em_account_pp</th>\n",
       "      <td>5962924.0</td>\n",
       "      <td>0.000000e+00</td>\n",
       "      <td>0.000000e+00</td>\n",
       "      <td>0.0</td>\n",
       "      <td>0.00</td>\n",
       "      <td>0.0</td>\n",
       "      <td>0.00</td>\n",
       "      <td>0.0</td>\n",
       "    </tr>\n",
       "    <tr>\n",
       "      <th>credit_card</th>\n",
       "      <td>5962924.0</td>\n",
       "      <td>1.188444e-02</td>\n",
       "      <td>1.083660e-01</td>\n",
       "      <td>0.0</td>\n",
       "      <td>0.00</td>\n",
       "      <td>0.0</td>\n",
       "      <td>0.00</td>\n",
       "      <td>1.0</td>\n",
       "    </tr>\n",
       "    <tr>\n",
       "      <th>payroll</th>\n",
       "      <td>5962863.0</td>\n",
       "      <td>3.451144e-02</td>\n",
       "      <td>1.825388e-01</td>\n",
       "      <td>0.0</td>\n",
       "      <td>0.00</td>\n",
       "      <td>0.0</td>\n",
       "      <td>0.00</td>\n",
       "      <td>1.0</td>\n",
       "    </tr>\n",
       "    <tr>\n",
       "      <th>pension_plan</th>\n",
       "      <td>5962863.0</td>\n",
       "      <td>3.652641e-02</td>\n",
       "      <td>1.875960e-01</td>\n",
       "      <td>0.0</td>\n",
       "      <td>0.00</td>\n",
       "      <td>0.0</td>\n",
       "      <td>0.00</td>\n",
       "      <td>1.0</td>\n",
       "    </tr>\n",
       "    <tr>\n",
       "      <th>payroll_account</th>\n",
       "      <td>5962924.0</td>\n",
       "      <td>5.524471e-02</td>\n",
       "      <td>2.284573e-01</td>\n",
       "      <td>0.0</td>\n",
       "      <td>0.00</td>\n",
       "      <td>0.0</td>\n",
       "      <td>0.00</td>\n",
       "      <td>1.0</td>\n",
       "    </tr>\n",
       "    <tr>\n",
       "      <th>emc_account</th>\n",
       "      <td>5962924.0</td>\n",
       "      <td>5.483233e-02</td>\n",
       "      <td>2.276527e-01</td>\n",
       "      <td>0.0</td>\n",
       "      <td>0.00</td>\n",
       "      <td>0.0</td>\n",
       "      <td>0.00</td>\n",
       "      <td>1.0</td>\n",
       "    </tr>\n",
       "    <tr>\n",
       "      <th>debit_card</th>\n",
       "      <td>5962924.0</td>\n",
       "      <td>9.441140e-02</td>\n",
       "      <td>2.924002e-01</td>\n",
       "      <td>0.0</td>\n",
       "      <td>0.00</td>\n",
       "      <td>0.0</td>\n",
       "      <td>0.00</td>\n",
       "      <td>1.0</td>\n",
       "    </tr>\n",
       "    <tr>\n",
       "      <th>em_account_p</th>\n",
       "      <td>5962924.0</td>\n",
       "      <td>5.701901e-06</td>\n",
       "      <td>2.387859e-03</td>\n",
       "      <td>0.0</td>\n",
       "      <td>0.00</td>\n",
       "      <td>0.0</td>\n",
       "      <td>0.00</td>\n",
       "      <td>1.0</td>\n",
       "    </tr>\n",
       "    <tr>\n",
       "      <th>em_acount</th>\n",
       "      <td>5962924.0</td>\n",
       "      <td>7.348076e-01</td>\n",
       "      <td>4.414356e-01</td>\n",
       "      <td>0.0</td>\n",
       "      <td>0.00</td>\n",
       "      <td>1.0</td>\n",
       "      <td>1.00</td>\n",
       "      <td>1.0</td>\n",
       "    </tr>\n",
       "  </tbody>\n",
       "</table>\n",
       "</div>"
      ],
      "text/plain": [
       "                        count          mean           std      min  \\\n",
       "Unnamed: 0          5962924.0  7.155425e+06  3.920784e+06      0.0   \n",
       "pk_cid              5962924.0  1.234930e+06  1.623020e+05  15891.0   \n",
       "short_term_deposit  5962924.0  2.581619e-03  5.074401e-02      0.0   \n",
       "loans               5962924.0  7.848498e-05  8.858828e-03      0.0   \n",
       "mortgage            5962924.0  5.433576e-05  7.371080e-03      0.0   \n",
       "funds               5962924.0  3.370662e-03  5.795948e-02      0.0   \n",
       "securities          5962924.0  3.711770e-03  6.081113e-02      0.0   \n",
       "long_term_deposit   5962924.0  1.688098e-02  1.288255e-01      0.0   \n",
       "em_account_pp       5962924.0  0.000000e+00  0.000000e+00      0.0   \n",
       "credit_card         5962924.0  1.188444e-02  1.083660e-01      0.0   \n",
       "payroll             5962863.0  3.451144e-02  1.825388e-01      0.0   \n",
       "pension_plan        5962863.0  3.652641e-02  1.875960e-01      0.0   \n",
       "payroll_account     5962924.0  5.524471e-02  2.284573e-01      0.0   \n",
       "emc_account         5962924.0  5.483233e-02  2.276527e-01      0.0   \n",
       "debit_card          5962924.0  9.441140e-02  2.924002e-01      0.0   \n",
       "em_account_p        5962924.0  5.701901e-06  2.387859e-03      0.0   \n",
       "em_acount           5962924.0  7.348076e-01  4.414356e-01      0.0   \n",
       "\n",
       "                           25%        50%          75%         max  \n",
       "Unnamed: 0          4240385.75  7499346.5  10201422.25  13647308.0  \n",
       "pk_cid              1112532.00  1231097.0   1352339.00   1553689.0  \n",
       "short_term_deposit        0.00        0.0         0.00         1.0  \n",
       "loans                     0.00        0.0         0.00         1.0  \n",
       "mortgage                  0.00        0.0         0.00         1.0  \n",
       "funds                     0.00        0.0         0.00         1.0  \n",
       "securities                0.00        0.0         0.00         1.0  \n",
       "long_term_deposit         0.00        0.0         0.00         1.0  \n",
       "em_account_pp             0.00        0.0         0.00         0.0  \n",
       "credit_card               0.00        0.0         0.00         1.0  \n",
       "payroll                   0.00        0.0         0.00         1.0  \n",
       "pension_plan              0.00        0.0         0.00         1.0  \n",
       "payroll_account           0.00        0.0         0.00         1.0  \n",
       "emc_account               0.00        0.0         0.00         1.0  \n",
       "debit_card                0.00        0.0         0.00         1.0  \n",
       "em_account_p              0.00        0.0         0.00         1.0  \n",
       "em_acount                 0.00        1.0         1.00         1.0  "
      ]
     },
     "execution_count": 20,
     "metadata": {},
     "output_type": "execute_result"
    }
   ],
   "source": [
    "df_products.describe().T"
   ]
  },
  {
   "cell_type": "markdown",
   "id": "9779ef26",
   "metadata": {},
   "source": [
    "## Transformación de los dataset\n",
    "\n",
    "- (1) Eliminar columna Unnamed: 0 (se crea por el índice del csv)."
   ]
  },
  {
   "cell_type": "code",
   "execution_count": 21,
   "id": "f049e025",
   "metadata": {
    "ExecuteTime": {
     "end_time": "2021-06-09T16:19:08.367973Z",
     "start_time": "2021-06-09T16:19:08.365916Z"
    }
   },
   "outputs": [],
   "source": [
    "def drop_unnamed(df):\n",
    "    \"\"\"\n",
    "    Función que borra la columna \"Unnamed: 0\" generada automáticamente en la\n",
    "    lectura del csv en formato DataFrame (si existe).\n",
    "    \n",
    "    Args:\n",
    "        df: DataFrame de trabajo.\n",
    "        \n",
    "    Returns:\n",
    "        df: DataFrame sin la columna Unnamed: 0.\n",
    "    \"\"\"\n",
    "    df = df.copy()\n",
    "    if 'Unnamed: 0' in df.columns:\n",
    "        df.drop('Unnamed: 0', axis=1, inplace=True)\n",
    "        \n",
    "    return df"
   ]
  },
  {
   "cell_type": "code",
   "execution_count": 22,
   "id": "ba2efc9a",
   "metadata": {
    "ExecuteTime": {
     "end_time": "2021-06-09T16:19:09.548027Z",
     "start_time": "2021-06-09T16:19:08.368878Z"
    }
   },
   "outputs": [],
   "source": [
    "df_commercial_activity = drop_unnamed(df_commercial_activity)    \n",
    "df_products = drop_unnamed(df_products)    \n",
    "df_sociodemographic = drop_unnamed(df_sociodemographic)    "
   ]
  },
  {
   "cell_type": "code",
   "execution_count": 23,
   "id": "9598fcac",
   "metadata": {
    "ExecuteTime": {
     "end_time": "2021-06-09T16:19:09.558665Z",
     "start_time": "2021-06-09T16:19:09.552796Z"
    }
   },
   "outputs": [
    {
     "data": {
      "text/html": [
       "<div>\n",
       "<style scoped>\n",
       "    .dataframe tbody tr th:only-of-type {\n",
       "        vertical-align: middle;\n",
       "    }\n",
       "\n",
       "    .dataframe tbody tr th {\n",
       "        vertical-align: top;\n",
       "    }\n",
       "\n",
       "    .dataframe thead th {\n",
       "        text-align: right;\n",
       "    }\n",
       "</style>\n",
       "<table border=\"1\" class=\"dataframe\">\n",
       "  <thead>\n",
       "    <tr style=\"text-align: right;\">\n",
       "      <th></th>\n",
       "      <th>pk_cid</th>\n",
       "      <th>pk_partition</th>\n",
       "      <th>entry_date</th>\n",
       "      <th>entry_channel</th>\n",
       "      <th>active_customer</th>\n",
       "      <th>segment</th>\n",
       "    </tr>\n",
       "  </thead>\n",
       "  <tbody>\n",
       "    <tr>\n",
       "      <th>0</th>\n",
       "      <td>1375586</td>\n",
       "      <td>2018-01-28</td>\n",
       "      <td>2018-01-12</td>\n",
       "      <td>KHL</td>\n",
       "      <td>1.0</td>\n",
       "      <td>02 - PARTICULARES</td>\n",
       "    </tr>\n",
       "    <tr>\n",
       "      <th>1</th>\n",
       "      <td>1050611</td>\n",
       "      <td>2018-01-28</td>\n",
       "      <td>2015-08-10</td>\n",
       "      <td>KHE</td>\n",
       "      <td>0.0</td>\n",
       "      <td>03 - UNIVERSITARIO</td>\n",
       "    </tr>\n",
       "    <tr>\n",
       "      <th>2</th>\n",
       "      <td>1050612</td>\n",
       "      <td>2018-01-28</td>\n",
       "      <td>2015-08-10</td>\n",
       "      <td>KHE</td>\n",
       "      <td>0.0</td>\n",
       "      <td>03 - UNIVERSITARIO</td>\n",
       "    </tr>\n",
       "    <tr>\n",
       "      <th>3</th>\n",
       "      <td>1050613</td>\n",
       "      <td>2018-01-28</td>\n",
       "      <td>2015-08-10</td>\n",
       "      <td>KHD</td>\n",
       "      <td>0.0</td>\n",
       "      <td>03 - UNIVERSITARIO</td>\n",
       "    </tr>\n",
       "    <tr>\n",
       "      <th>4</th>\n",
       "      <td>1050614</td>\n",
       "      <td>2018-01-28</td>\n",
       "      <td>2015-08-10</td>\n",
       "      <td>KHE</td>\n",
       "      <td>1.0</td>\n",
       "      <td>03 - UNIVERSITARIO</td>\n",
       "    </tr>\n",
       "  </tbody>\n",
       "</table>\n",
       "</div>"
      ],
      "text/plain": [
       "    pk_cid pk_partition  entry_date entry_channel  active_customer  \\\n",
       "0  1375586   2018-01-28  2018-01-12           KHL              1.0   \n",
       "1  1050611   2018-01-28  2015-08-10           KHE              0.0   \n",
       "2  1050612   2018-01-28  2015-08-10           KHE              0.0   \n",
       "3  1050613   2018-01-28  2015-08-10           KHD              0.0   \n",
       "4  1050614   2018-01-28  2015-08-10           KHE              1.0   \n",
       "\n",
       "              segment  \n",
       "0   02 - PARTICULARES  \n",
       "1  03 - UNIVERSITARIO  \n",
       "2  03 - UNIVERSITARIO  \n",
       "3  03 - UNIVERSITARIO  \n",
       "4  03 - UNIVERSITARIO  "
      ]
     },
     "execution_count": 23,
     "metadata": {},
     "output_type": "execute_result"
    }
   ],
   "source": [
    "df_commercial_activity.head()"
   ]
  },
  {
   "cell_type": "code",
   "execution_count": 24,
   "id": "050beaa6",
   "metadata": {
    "ExecuteTime": {
     "end_time": "2021-06-09T16:19:09.568636Z",
     "start_time": "2021-06-09T16:19:09.561465Z"
    }
   },
   "outputs": [
    {
     "data": {
      "text/html": [
       "<div>\n",
       "<style scoped>\n",
       "    .dataframe tbody tr th:only-of-type {\n",
       "        vertical-align: middle;\n",
       "    }\n",
       "\n",
       "    .dataframe tbody tr th {\n",
       "        vertical-align: top;\n",
       "    }\n",
       "\n",
       "    .dataframe thead th {\n",
       "        text-align: right;\n",
       "    }\n",
       "</style>\n",
       "<table border=\"1\" class=\"dataframe\">\n",
       "  <thead>\n",
       "    <tr style=\"text-align: right;\">\n",
       "      <th></th>\n",
       "      <th>pk_cid</th>\n",
       "      <th>pk_partition</th>\n",
       "      <th>short_term_deposit</th>\n",
       "      <th>loans</th>\n",
       "      <th>mortgage</th>\n",
       "      <th>funds</th>\n",
       "      <th>securities</th>\n",
       "      <th>long_term_deposit</th>\n",
       "      <th>em_account_pp</th>\n",
       "      <th>credit_card</th>\n",
       "      <th>payroll</th>\n",
       "      <th>pension_plan</th>\n",
       "      <th>payroll_account</th>\n",
       "      <th>emc_account</th>\n",
       "      <th>debit_card</th>\n",
       "      <th>em_account_p</th>\n",
       "      <th>em_acount</th>\n",
       "    </tr>\n",
       "  </thead>\n",
       "  <tbody>\n",
       "    <tr>\n",
       "      <th>0</th>\n",
       "      <td>1375586</td>\n",
       "      <td>2018-01-28</td>\n",
       "      <td>0</td>\n",
       "      <td>0</td>\n",
       "      <td>0</td>\n",
       "      <td>0</td>\n",
       "      <td>0</td>\n",
       "      <td>0</td>\n",
       "      <td>0</td>\n",
       "      <td>0</td>\n",
       "      <td>0.0</td>\n",
       "      <td>0.0</td>\n",
       "      <td>0</td>\n",
       "      <td>0</td>\n",
       "      <td>0</td>\n",
       "      <td>0</td>\n",
       "      <td>1</td>\n",
       "    </tr>\n",
       "    <tr>\n",
       "      <th>1</th>\n",
       "      <td>1050611</td>\n",
       "      <td>2018-01-28</td>\n",
       "      <td>0</td>\n",
       "      <td>0</td>\n",
       "      <td>0</td>\n",
       "      <td>0</td>\n",
       "      <td>0</td>\n",
       "      <td>0</td>\n",
       "      <td>0</td>\n",
       "      <td>0</td>\n",
       "      <td>0.0</td>\n",
       "      <td>0.0</td>\n",
       "      <td>0</td>\n",
       "      <td>0</td>\n",
       "      <td>0</td>\n",
       "      <td>0</td>\n",
       "      <td>1</td>\n",
       "    </tr>\n",
       "    <tr>\n",
       "      <th>2</th>\n",
       "      <td>1050612</td>\n",
       "      <td>2018-01-28</td>\n",
       "      <td>0</td>\n",
       "      <td>0</td>\n",
       "      <td>0</td>\n",
       "      <td>0</td>\n",
       "      <td>0</td>\n",
       "      <td>0</td>\n",
       "      <td>0</td>\n",
       "      <td>0</td>\n",
       "      <td>0.0</td>\n",
       "      <td>0.0</td>\n",
       "      <td>0</td>\n",
       "      <td>0</td>\n",
       "      <td>0</td>\n",
       "      <td>0</td>\n",
       "      <td>1</td>\n",
       "    </tr>\n",
       "    <tr>\n",
       "      <th>3</th>\n",
       "      <td>1050613</td>\n",
       "      <td>2018-01-28</td>\n",
       "      <td>1</td>\n",
       "      <td>0</td>\n",
       "      <td>0</td>\n",
       "      <td>0</td>\n",
       "      <td>0</td>\n",
       "      <td>0</td>\n",
       "      <td>0</td>\n",
       "      <td>0</td>\n",
       "      <td>0.0</td>\n",
       "      <td>0.0</td>\n",
       "      <td>0</td>\n",
       "      <td>0</td>\n",
       "      <td>0</td>\n",
       "      <td>0</td>\n",
       "      <td>0</td>\n",
       "    </tr>\n",
       "    <tr>\n",
       "      <th>4</th>\n",
       "      <td>1050614</td>\n",
       "      <td>2018-01-28</td>\n",
       "      <td>0</td>\n",
       "      <td>0</td>\n",
       "      <td>0</td>\n",
       "      <td>0</td>\n",
       "      <td>0</td>\n",
       "      <td>0</td>\n",
       "      <td>0</td>\n",
       "      <td>0</td>\n",
       "      <td>0.0</td>\n",
       "      <td>0.0</td>\n",
       "      <td>0</td>\n",
       "      <td>0</td>\n",
       "      <td>0</td>\n",
       "      <td>0</td>\n",
       "      <td>1</td>\n",
       "    </tr>\n",
       "  </tbody>\n",
       "</table>\n",
       "</div>"
      ],
      "text/plain": [
       "    pk_cid pk_partition  short_term_deposit  loans  mortgage  funds  \\\n",
       "0  1375586   2018-01-28                   0      0         0      0   \n",
       "1  1050611   2018-01-28                   0      0         0      0   \n",
       "2  1050612   2018-01-28                   0      0         0      0   \n",
       "3  1050613   2018-01-28                   1      0         0      0   \n",
       "4  1050614   2018-01-28                   0      0         0      0   \n",
       "\n",
       "   securities  long_term_deposit  em_account_pp  credit_card  payroll  \\\n",
       "0           0                  0              0            0      0.0   \n",
       "1           0                  0              0            0      0.0   \n",
       "2           0                  0              0            0      0.0   \n",
       "3           0                  0              0            0      0.0   \n",
       "4           0                  0              0            0      0.0   \n",
       "\n",
       "   pension_plan  payroll_account  emc_account  debit_card  em_account_p  \\\n",
       "0           0.0                0            0           0             0   \n",
       "1           0.0                0            0           0             0   \n",
       "2           0.0                0            0           0             0   \n",
       "3           0.0                0            0           0             0   \n",
       "4           0.0                0            0           0             0   \n",
       "\n",
       "   em_acount  \n",
       "0          1  \n",
       "1          1  \n",
       "2          1  \n",
       "3          0  \n",
       "4          1  "
      ]
     },
     "execution_count": 24,
     "metadata": {},
     "output_type": "execute_result"
    }
   ],
   "source": [
    "df_products.head()"
   ]
  },
  {
   "cell_type": "code",
   "execution_count": 25,
   "id": "e954617b",
   "metadata": {
    "ExecuteTime": {
     "end_time": "2021-06-09T16:19:09.575850Z",
     "start_time": "2021-06-09T16:19:09.569517Z"
    }
   },
   "outputs": [
    {
     "data": {
      "text/html": [
       "<div>\n",
       "<style scoped>\n",
       "    .dataframe tbody tr th:only-of-type {\n",
       "        vertical-align: middle;\n",
       "    }\n",
       "\n",
       "    .dataframe tbody tr th {\n",
       "        vertical-align: top;\n",
       "    }\n",
       "\n",
       "    .dataframe thead th {\n",
       "        text-align: right;\n",
       "    }\n",
       "</style>\n",
       "<table border=\"1\" class=\"dataframe\">\n",
       "  <thead>\n",
       "    <tr style=\"text-align: right;\">\n",
       "      <th></th>\n",
       "      <th>pk_cid</th>\n",
       "      <th>pk_partition</th>\n",
       "      <th>country_id</th>\n",
       "      <th>region_code</th>\n",
       "      <th>gender</th>\n",
       "      <th>age</th>\n",
       "      <th>deceased</th>\n",
       "      <th>salary</th>\n",
       "    </tr>\n",
       "  </thead>\n",
       "  <tbody>\n",
       "    <tr>\n",
       "      <th>0</th>\n",
       "      <td>1375586</td>\n",
       "      <td>2018-01-28</td>\n",
       "      <td>ES</td>\n",
       "      <td>29.0</td>\n",
       "      <td>H</td>\n",
       "      <td>35</td>\n",
       "      <td>N</td>\n",
       "      <td>87218.10</td>\n",
       "    </tr>\n",
       "    <tr>\n",
       "      <th>1</th>\n",
       "      <td>1050611</td>\n",
       "      <td>2018-01-28</td>\n",
       "      <td>ES</td>\n",
       "      <td>13.0</td>\n",
       "      <td>V</td>\n",
       "      <td>23</td>\n",
       "      <td>N</td>\n",
       "      <td>35548.74</td>\n",
       "    </tr>\n",
       "    <tr>\n",
       "      <th>2</th>\n",
       "      <td>1050612</td>\n",
       "      <td>2018-01-28</td>\n",
       "      <td>ES</td>\n",
       "      <td>13.0</td>\n",
       "      <td>V</td>\n",
       "      <td>23</td>\n",
       "      <td>N</td>\n",
       "      <td>122179.11</td>\n",
       "    </tr>\n",
       "    <tr>\n",
       "      <th>3</th>\n",
       "      <td>1050613</td>\n",
       "      <td>2018-01-28</td>\n",
       "      <td>ES</td>\n",
       "      <td>50.0</td>\n",
       "      <td>H</td>\n",
       "      <td>22</td>\n",
       "      <td>N</td>\n",
       "      <td>119775.54</td>\n",
       "    </tr>\n",
       "    <tr>\n",
       "      <th>4</th>\n",
       "      <td>1050614</td>\n",
       "      <td>2018-01-28</td>\n",
       "      <td>ES</td>\n",
       "      <td>50.0</td>\n",
       "      <td>V</td>\n",
       "      <td>23</td>\n",
       "      <td>N</td>\n",
       "      <td>NaN</td>\n",
       "    </tr>\n",
       "  </tbody>\n",
       "</table>\n",
       "</div>"
      ],
      "text/plain": [
       "    pk_cid pk_partition country_id  region_code gender  age deceased  \\\n",
       "0  1375586   2018-01-28         ES         29.0      H   35        N   \n",
       "1  1050611   2018-01-28         ES         13.0      V   23        N   \n",
       "2  1050612   2018-01-28         ES         13.0      V   23        N   \n",
       "3  1050613   2018-01-28         ES         50.0      H   22        N   \n",
       "4  1050614   2018-01-28         ES         50.0      V   23        N   \n",
       "\n",
       "      salary  \n",
       "0   87218.10  \n",
       "1   35548.74  \n",
       "2  122179.11  \n",
       "3  119775.54  \n",
       "4        NaN  "
      ]
     },
     "execution_count": 25,
     "metadata": {},
     "output_type": "execute_result"
    }
   ],
   "source": [
    "df_sociodemographic.head()"
   ]
  },
  {
   "cell_type": "markdown",
   "id": "ca3e31ed",
   "metadata": {},
   "source": [
    "## Subir dataset a la base de datos (pendiente)\n",
    "\n",
    "Requerimientos:\n",
    "- Analizar los datos para conocer como estructurarlos de la mejor forma.\n",
    "- Crear base de datos (desde DBeaver).\n",
    "\n",
    "Tablas (por definir):\n"
   ]
  },
  {
   "cell_type": "code",
   "execution_count": null,
   "id": "0b15f2c8",
   "metadata": {},
   "outputs": [],
   "source": []
  }
 ],
 "metadata": {
  "kernelspec": {
   "display_name": "Python 3.8.8 64-bit ('NuclioDigitalSchool': conda)",
   "language": "python",
   "name": "python388jvsc74a57bd036b9a2a0f226926490f5535038bc0776dc6ef9541a368ddb54f9a85170198278"
  },
  "language_info": {
   "codemirror_mode": {
    "name": "ipython",
    "version": 3
   },
   "file_extension": ".py",
   "mimetype": "text/x-python",
   "name": "python",
   "nbconvert_exporter": "python",
   "pygments_lexer": "ipython3",
   "version": "3.8.8"
  },
  "nbTranslate": {
   "displayLangs": [
    "*"
   ],
   "hotkey": "alt-t",
   "langInMainMenu": true,
   "sourceLang": "en",
   "targetLang": "fr",
   "useGoogleTranslate": true
  },
  "toc": {
   "base_numbering": 1,
   "nav_menu": {},
   "number_sections": true,
   "sideBar": true,
   "skip_h1_title": true,
   "title_cell": "Table of Contents",
   "title_sidebar": "Contents",
   "toc_cell": true,
   "toc_position": {},
   "toc_section_display": true,
   "toc_window_display": false
  },
  "varInspector": {
   "cols": {
    "lenName": 16,
    "lenType": 16,
    "lenVar": 40
   },
   "kernels_config": {
    "python": {
     "delete_cmd_postfix": "",
     "delete_cmd_prefix": "del ",
     "library": "var_list.py",
     "varRefreshCmd": "print(var_dic_list())"
    },
    "r": {
     "delete_cmd_postfix": ") ",
     "delete_cmd_prefix": "rm(",
     "library": "var_list.r",
     "varRefreshCmd": "cat(var_dic_list()) "
    }
   },
   "types_to_exclude": [
    "module",
    "function",
    "builtin_function_or_method",
    "instance",
    "_Feature"
   ],
   "window_display": false
  }
 },
 "nbformat": 4,
 "nbformat_minor": 5
}
