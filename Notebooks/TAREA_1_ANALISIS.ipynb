{
 "cells": [
  {
   "cell_type": "markdown",
   "metadata": {
    "toc": true
   },
   "source": [
    "<h1>Table of Contents<span class=\"tocSkip\"></span></h1>\n",
    "<div class=\"toc\"><ul class=\"toc-item\"><li><span><a href=\"#EasyMoney---Data\" data-toc-modified-id=\"EasyMoney---Data-1\"><span class=\"toc-item-num\">1&nbsp;&nbsp;</span>EasyMoney - Data</a></span></li><li><span><a href=\"#Librerías\" data-toc-modified-id=\"Librerías-2\"><span class=\"toc-item-num\">2&nbsp;&nbsp;</span>Librerías</a></span></li><li><span><a href=\"#Tarea-1---Análisis\" data-toc-modified-id=\"Tarea-1---Análisis-3\"><span class=\"toc-item-num\">3&nbsp;&nbsp;</span>Tarea 1 - Análisis</a></span><ul class=\"toc-item\"><li><span><a href=\"#products\" data-toc-modified-id=\"products-3.1\"><span class=\"toc-item-num\">3.1&nbsp;&nbsp;</span>products</a></span><ul class=\"toc-item\"><li><span><a href=\"#Identificar-valores-nulos\" data-toc-modified-id=\"Identificar-valores-nulos-3.1.1\"><span class=\"toc-item-num\">3.1.1&nbsp;&nbsp;</span>Identificar valores nulos</a></span></li><li><span><a href=\"#pk_partition\" data-toc-modified-id=\"pk_partition-3.1.2\"><span class=\"toc-item-num\">3.1.2&nbsp;&nbsp;</span>pk_partition</a></span></li><li><span><a href=\"#pk_cid\" data-toc-modified-id=\"pk_cid-3.1.3\"><span class=\"toc-item-num\">3.1.3&nbsp;&nbsp;</span>pk_cid</a></span></li><li><span><a href=\"#Evolución-temporal-de-la-cuenta\" data-toc-modified-id=\"Evolución-temporal-de-la-cuenta-3.1.4\"><span class=\"toc-item-num\">3.1.4&nbsp;&nbsp;</span>Evolución temporal de la cuenta</a></span></li></ul></li></ul></li><li><span><a href=\"#sociodemographic\" data-toc-modified-id=\"sociodemographic-4\"><span class=\"toc-item-num\">4&nbsp;&nbsp;</span>sociodemographic</a></span></li><li><span><a href=\"#Anexos\" data-toc-modified-id=\"Anexos-5\"><span class=\"toc-item-num\">5&nbsp;&nbsp;</span>Anexos</a></span><ul class=\"toc-item\"><li><span><a href=\"#Anexo-I.-Matriz-de-Ansoff-[3]\" data-toc-modified-id=\"Anexo-I.-Matriz-de-Ansoff-[3]-5.1\"><span class=\"toc-item-num\">5.1&nbsp;&nbsp;</span>Anexo I. Matriz de Ansoff [3]</a></span><ul class=\"toc-item\"><li><span><a href=\"#Estrategias-de-crecimiento-de-la-Matriz-de-Ansoff\" data-toc-modified-id=\"Estrategias-de-crecimiento-de-la-Matriz-de-Ansoff-5.1.1\"><span class=\"toc-item-num\">5.1.1&nbsp;&nbsp;</span>Estrategias de crecimiento de la Matriz de Ansoff</a></span></li></ul></li></ul></li><li><span><a href=\"#Bibliografía\" data-toc-modified-id=\"Bibliografía-6\"><span class=\"toc-item-num\">6&nbsp;&nbsp;</span>Bibliografía</a></span></li></ul></div>"
   ]
  },
  {
   "cell_type": "markdown",
   "metadata": {},
   "source": [
    "<center><span style=\"background-color: rgb(251, 160, 38); font-size: 32px;\">  <b>NUCLIO DIGITAL SCHOOL -</b> MASTER EN DATA SCIENCE  </span></center>\n",
    "    \n",
    "<br>\n",
    "    \n",
    "<center><a href = https://nuclio.school/wp-content/uploads/2019/10/nucleoDS-newBlack.png > <img src=\"https://nuclio.school/wp-content/uploads/2019/10/nucleoDS-newBlack.png\" width=400 height=100><a/></center>"
   ]
  },
  {
   "cell_type": "markdown",
   "metadata": {},
   "source": [
    "<hr style=\"height:5px;border-width:0;color:orange;background-color:orange\">\n",
    "<center> <span style=\"font-size: 26px;\">  <b>Proyecto Final de Máster - EasyMoney </span> </center>\n",
    "\n",
    "+ Sesion: **Análisis de datos**\n",
    "+ Bloque: **Trabajo Fin de Máster**\n",
    "+ Curso: **Data Science Madrid 0521**\n",
    "+ Alumno 1: **Sergio Masa Avís**\n",
    "+ Alumno 2: **María Andreu**\n",
    "\n",
    "<br>\n",
    "\n",
    "<hr style=\"height:5px;border-width:0;color:orange;background-color:orange\">"
   ]
  },
  {
   "cell_type": "markdown",
   "metadata": {},
   "source": [
    "__Esto es un cambio de prueba__"
   ]
  },
  {
   "cell_type": "markdown",
   "metadata": {},
   "source": [
    "## EasyMoney - Data\n",
    "\n",
    "\n",
    "En el directorio data/ se encuentran tres fuentes de información almacenadas en formato csv:\n",
    "- products_df\n",
    "- sociodemographic_df\n",
    "- commercial_activity\n",
    "\n",
    "A continuación, se muestra la descripción proporcionada de los datos proporcionada por el Director de IT de EasyMoney\n",
    "\n",
    "<img src=\"img/data_description.png\" width=\"800\" height=\"400\">\n"
   ]
  },
  {
   "cell_type": "markdown",
   "metadata": {},
   "source": [
    "<hr style=\"height:5px;border-width:0;color:orange;background-color:orange\">"
   ]
  },
  {
   "cell_type": "markdown",
   "metadata": {},
   "source": [
    "## Librerías"
   ]
  },
  {
   "cell_type": "code",
   "execution_count": 2,
   "metadata": {
    "ExecuteTime": {
     "end_time": "2021-07-21T11:19:26.685600Z",
     "start_time": "2021-07-21T11:19:26.675600Z"
    }
   },
   "outputs": [
    {
     "data": {
      "text/html": [
       "        <script type=\"text/javascript\">\n",
       "        window.PlotlyConfig = {MathJaxConfig: 'local'};\n",
       "        if (window.MathJax) {MathJax.Hub.Config({SVG: {font: \"STIX-Web\"}});}\n",
       "        if (typeof require !== 'undefined') {\n",
       "        require.undef(\"plotly\");\n",
       "        requirejs.config({\n",
       "            paths: {\n",
       "                'plotly': ['https://cdn.plot.ly/plotly-2.2.0.min']\n",
       "            }\n",
       "        });\n",
       "        require(['plotly'], function(Plotly) {\n",
       "            window._Plotly = Plotly;\n",
       "        });\n",
       "        }\n",
       "        </script>\n",
       "        "
      ]
     },
     "metadata": {},
     "output_type": "display_data"
    }
   ],
   "source": [
    "import numpy as np \n",
    "import pandas as pd\n",
    "import matplotlib.pyplot as plt\n",
    "import matplotlib.dates as mdates\n",
    "import seaborn as sns\n",
    "import plotly.express as px\n",
    "from plotly.offline import init_notebook_mode, iplot\n",
    "import warnings\n",
    "warnings.filterwarnings(\"ignore\")\n",
    "from IPython.display import Image\n",
    "\n",
    "init_notebook_mode(connected=True)  \n",
    "\n",
    "pd.options.display.float_format = '{:,.3f}'.format"
   ]
  },
  {
   "cell_type": "markdown",
   "metadata": {},
   "source": [
    "## Tarea 1 - Análisis"
   ]
  },
  {
   "cell_type": "markdown",
   "metadata": {
    "run_control": {
     "marked": true
    }
   },
   "source": [
    "<img src=\"img/tarea_1_analisis.png\" width=\"800\" height=\"400\">\n"
   ]
  },
  {
   "cell_type": "markdown",
   "metadata": {},
   "source": [
    "### products\n",
    "\n",
    "Descripción:\n",
    "\n",
    "- __credit_card.__ Tarjetas de crédito\n",
    "- __debit_card.__ Tarjetas de débito\n",
    "- __em_account_p.__ Cuenta easyMoney+\n",
    "- __em_account_pp.__ Cuenta easyMoney++\n",
    "- __em_acount.__ Cuenta easyMoney\n",
    "- __emc_account.__ Cuenta easyMoney Crypto\n",
    "- __funds.__ Fondos de inversión\n",
    "- __loans.__ Préstamos\n",
    "- __long_term_deposit.__ Depósitos a largo plazo\n",
    "- __mortgage.__ Mortgage\n",
    "- __payroll.__ Domiciliaciones\n",
    "- __payroll_account.__ Cuenta bonificada por domiciliaciones\n",
    "- __pension_plan.__ Plan de pensiones\n",
    "- __pk_cid.__ Identificador de cliente\n",
    "- __pk_partition.__ Fecha de ingesta de los datos\n",
    "- __securities.__ Valores\n",
    "- __short_term_deposit.__ Short-term deposits"
   ]
  },
  {
   "cell_type": "code",
   "execution_count": 3,
   "metadata": {
    "ExecuteTime": {
     "end_time": "2021-07-21T11:19:28.236600Z",
     "start_time": "2021-07-21T11:19:26.688600Z"
    }
   },
   "outputs": [
    {
     "ename": "FileNotFoundError",
     "evalue": "[Errno 2] No such file or directory: 'data/products_df.csv'",
     "output_type": "error",
     "traceback": [
      "\u001b[1;31m---------------------------------------------------------------------------\u001b[0m",
      "\u001b[1;31mFileNotFoundError\u001b[0m                         Traceback (most recent call last)",
      "\u001b[1;32m<ipython-input-3-ae1133ff1a23>\u001b[0m in \u001b[0;36m<module>\u001b[1;34m\u001b[0m\n\u001b[1;32m----> 1\u001b[1;33m \u001b[0mdf_products\u001b[0m \u001b[1;33m=\u001b[0m \u001b[0mpd\u001b[0m\u001b[1;33m.\u001b[0m\u001b[0mread_csv\u001b[0m\u001b[1;33m(\u001b[0m\u001b[1;34m'data/products_df.csv'\u001b[0m\u001b[1;33m,\u001b[0m \u001b[0msep\u001b[0m\u001b[1;33m=\u001b[0m\u001b[1;34m','\u001b[0m\u001b[1;33m,\u001b[0m \u001b[0mencoding\u001b[0m\u001b[1;33m=\u001b[0m\u001b[1;34m'utf-8-sig'\u001b[0m\u001b[1;33m)\u001b[0m\u001b[1;33m\u001b[0m\u001b[1;33m\u001b[0m\u001b[0m\n\u001b[0m\u001b[0;32m      2\u001b[0m \u001b[0mdf_products\u001b[0m\u001b[1;33m.\u001b[0m\u001b[0mdrop\u001b[0m\u001b[1;33m(\u001b[0m\u001b[1;34m'Unnamed: 0'\u001b[0m\u001b[1;33m,\u001b[0m \u001b[0maxis\u001b[0m\u001b[1;33m=\u001b[0m\u001b[1;36m1\u001b[0m\u001b[1;33m,\u001b[0m \u001b[0minplace\u001b[0m\u001b[1;33m=\u001b[0m\u001b[1;32mTrue\u001b[0m\u001b[1;33m)\u001b[0m\u001b[1;33m\u001b[0m\u001b[1;33m\u001b[0m\u001b[0m\n",
      "\u001b[1;32m~\\Anaconda3\\lib\\site-packages\\pandas\\io\\parsers.py\u001b[0m in \u001b[0;36mread_csv\u001b[1;34m(filepath_or_buffer, sep, delimiter, header, names, index_col, usecols, squeeze, prefix, mangle_dupe_cols, dtype, engine, converters, true_values, false_values, skipinitialspace, skiprows, skipfooter, nrows, na_values, keep_default_na, na_filter, verbose, skip_blank_lines, parse_dates, infer_datetime_format, keep_date_col, date_parser, dayfirst, cache_dates, iterator, chunksize, compression, thousands, decimal, lineterminator, quotechar, quoting, doublequote, escapechar, comment, encoding, dialect, error_bad_lines, warn_bad_lines, delim_whitespace, low_memory, memory_map, float_precision)\u001b[0m\n\u001b[0;32m    684\u001b[0m     )\n\u001b[0;32m    685\u001b[0m \u001b[1;33m\u001b[0m\u001b[0m\n\u001b[1;32m--> 686\u001b[1;33m     \u001b[1;32mreturn\u001b[0m \u001b[0m_read\u001b[0m\u001b[1;33m(\u001b[0m\u001b[0mfilepath_or_buffer\u001b[0m\u001b[1;33m,\u001b[0m \u001b[0mkwds\u001b[0m\u001b[1;33m)\u001b[0m\u001b[1;33m\u001b[0m\u001b[1;33m\u001b[0m\u001b[0m\n\u001b[0m\u001b[0;32m    687\u001b[0m \u001b[1;33m\u001b[0m\u001b[0m\n\u001b[0;32m    688\u001b[0m \u001b[1;33m\u001b[0m\u001b[0m\n",
      "\u001b[1;32m~\\Anaconda3\\lib\\site-packages\\pandas\\io\\parsers.py\u001b[0m in \u001b[0;36m_read\u001b[1;34m(filepath_or_buffer, kwds)\u001b[0m\n\u001b[0;32m    450\u001b[0m \u001b[1;33m\u001b[0m\u001b[0m\n\u001b[0;32m    451\u001b[0m     \u001b[1;31m# Create the parser.\u001b[0m\u001b[1;33m\u001b[0m\u001b[1;33m\u001b[0m\u001b[1;33m\u001b[0m\u001b[0m\n\u001b[1;32m--> 452\u001b[1;33m     \u001b[0mparser\u001b[0m \u001b[1;33m=\u001b[0m \u001b[0mTextFileReader\u001b[0m\u001b[1;33m(\u001b[0m\u001b[0mfp_or_buf\u001b[0m\u001b[1;33m,\u001b[0m \u001b[1;33m**\u001b[0m\u001b[0mkwds\u001b[0m\u001b[1;33m)\u001b[0m\u001b[1;33m\u001b[0m\u001b[1;33m\u001b[0m\u001b[0m\n\u001b[0m\u001b[0;32m    453\u001b[0m \u001b[1;33m\u001b[0m\u001b[0m\n\u001b[0;32m    454\u001b[0m     \u001b[1;32mif\u001b[0m \u001b[0mchunksize\u001b[0m \u001b[1;32mor\u001b[0m \u001b[0miterator\u001b[0m\u001b[1;33m:\u001b[0m\u001b[1;33m\u001b[0m\u001b[1;33m\u001b[0m\u001b[0m\n",
      "\u001b[1;32m~\\Anaconda3\\lib\\site-packages\\pandas\\io\\parsers.py\u001b[0m in \u001b[0;36m__init__\u001b[1;34m(self, f, engine, **kwds)\u001b[0m\n\u001b[0;32m    944\u001b[0m             \u001b[0mself\u001b[0m\u001b[1;33m.\u001b[0m\u001b[0moptions\u001b[0m\u001b[1;33m[\u001b[0m\u001b[1;34m\"has_index_names\"\u001b[0m\u001b[1;33m]\u001b[0m \u001b[1;33m=\u001b[0m \u001b[0mkwds\u001b[0m\u001b[1;33m[\u001b[0m\u001b[1;34m\"has_index_names\"\u001b[0m\u001b[1;33m]\u001b[0m\u001b[1;33m\u001b[0m\u001b[1;33m\u001b[0m\u001b[0m\n\u001b[0;32m    945\u001b[0m \u001b[1;33m\u001b[0m\u001b[0m\n\u001b[1;32m--> 946\u001b[1;33m         \u001b[0mself\u001b[0m\u001b[1;33m.\u001b[0m\u001b[0m_make_engine\u001b[0m\u001b[1;33m(\u001b[0m\u001b[0mself\u001b[0m\u001b[1;33m.\u001b[0m\u001b[0mengine\u001b[0m\u001b[1;33m)\u001b[0m\u001b[1;33m\u001b[0m\u001b[1;33m\u001b[0m\u001b[0m\n\u001b[0m\u001b[0;32m    947\u001b[0m \u001b[1;33m\u001b[0m\u001b[0m\n\u001b[0;32m    948\u001b[0m     \u001b[1;32mdef\u001b[0m \u001b[0mclose\u001b[0m\u001b[1;33m(\u001b[0m\u001b[0mself\u001b[0m\u001b[1;33m)\u001b[0m\u001b[1;33m:\u001b[0m\u001b[1;33m\u001b[0m\u001b[1;33m\u001b[0m\u001b[0m\n",
      "\u001b[1;32m~\\Anaconda3\\lib\\site-packages\\pandas\\io\\parsers.py\u001b[0m in \u001b[0;36m_make_engine\u001b[1;34m(self, engine)\u001b[0m\n\u001b[0;32m   1176\u001b[0m     \u001b[1;32mdef\u001b[0m \u001b[0m_make_engine\u001b[0m\u001b[1;33m(\u001b[0m\u001b[0mself\u001b[0m\u001b[1;33m,\u001b[0m \u001b[0mengine\u001b[0m\u001b[1;33m=\u001b[0m\u001b[1;34m\"c\"\u001b[0m\u001b[1;33m)\u001b[0m\u001b[1;33m:\u001b[0m\u001b[1;33m\u001b[0m\u001b[1;33m\u001b[0m\u001b[0m\n\u001b[0;32m   1177\u001b[0m         \u001b[1;32mif\u001b[0m \u001b[0mengine\u001b[0m \u001b[1;33m==\u001b[0m \u001b[1;34m\"c\"\u001b[0m\u001b[1;33m:\u001b[0m\u001b[1;33m\u001b[0m\u001b[1;33m\u001b[0m\u001b[0m\n\u001b[1;32m-> 1178\u001b[1;33m             \u001b[0mself\u001b[0m\u001b[1;33m.\u001b[0m\u001b[0m_engine\u001b[0m \u001b[1;33m=\u001b[0m \u001b[0mCParserWrapper\u001b[0m\u001b[1;33m(\u001b[0m\u001b[0mself\u001b[0m\u001b[1;33m.\u001b[0m\u001b[0mf\u001b[0m\u001b[1;33m,\u001b[0m \u001b[1;33m**\u001b[0m\u001b[0mself\u001b[0m\u001b[1;33m.\u001b[0m\u001b[0moptions\u001b[0m\u001b[1;33m)\u001b[0m\u001b[1;33m\u001b[0m\u001b[1;33m\u001b[0m\u001b[0m\n\u001b[0m\u001b[0;32m   1179\u001b[0m         \u001b[1;32melse\u001b[0m\u001b[1;33m:\u001b[0m\u001b[1;33m\u001b[0m\u001b[1;33m\u001b[0m\u001b[0m\n\u001b[0;32m   1180\u001b[0m             \u001b[1;32mif\u001b[0m \u001b[0mengine\u001b[0m \u001b[1;33m==\u001b[0m \u001b[1;34m\"python\"\u001b[0m\u001b[1;33m:\u001b[0m\u001b[1;33m\u001b[0m\u001b[1;33m\u001b[0m\u001b[0m\n",
      "\u001b[1;32m~\\Anaconda3\\lib\\site-packages\\pandas\\io\\parsers.py\u001b[0m in \u001b[0;36m__init__\u001b[1;34m(self, src, **kwds)\u001b[0m\n\u001b[0;32m   1989\u001b[0m         \u001b[1;32mif\u001b[0m \u001b[0mkwds\u001b[0m\u001b[1;33m.\u001b[0m\u001b[0mget\u001b[0m\u001b[1;33m(\u001b[0m\u001b[1;34m\"compression\"\u001b[0m\u001b[1;33m)\u001b[0m \u001b[1;32mis\u001b[0m \u001b[1;32mNone\u001b[0m \u001b[1;32mand\u001b[0m \u001b[0mencoding\u001b[0m\u001b[1;33m:\u001b[0m\u001b[1;33m\u001b[0m\u001b[1;33m\u001b[0m\u001b[0m\n\u001b[0;32m   1990\u001b[0m             \u001b[1;32mif\u001b[0m \u001b[0misinstance\u001b[0m\u001b[1;33m(\u001b[0m\u001b[0msrc\u001b[0m\u001b[1;33m,\u001b[0m \u001b[0mstr\u001b[0m\u001b[1;33m)\u001b[0m\u001b[1;33m:\u001b[0m\u001b[1;33m\u001b[0m\u001b[1;33m\u001b[0m\u001b[0m\n\u001b[1;32m-> 1991\u001b[1;33m                 \u001b[0msrc\u001b[0m \u001b[1;33m=\u001b[0m \u001b[0mopen\u001b[0m\u001b[1;33m(\u001b[0m\u001b[0msrc\u001b[0m\u001b[1;33m,\u001b[0m \u001b[1;34m\"rb\"\u001b[0m\u001b[1;33m)\u001b[0m\u001b[1;33m\u001b[0m\u001b[1;33m\u001b[0m\u001b[0m\n\u001b[0m\u001b[0;32m   1992\u001b[0m                 \u001b[0mself\u001b[0m\u001b[1;33m.\u001b[0m\u001b[0mhandles\u001b[0m\u001b[1;33m.\u001b[0m\u001b[0mappend\u001b[0m\u001b[1;33m(\u001b[0m\u001b[0msrc\u001b[0m\u001b[1;33m)\u001b[0m\u001b[1;33m\u001b[0m\u001b[1;33m\u001b[0m\u001b[0m\n\u001b[0;32m   1993\u001b[0m \u001b[1;33m\u001b[0m\u001b[0m\n",
      "\u001b[1;31mFileNotFoundError\u001b[0m: [Errno 2] No such file or directory: 'data/products_df.csv'"
     ]
    }
   ],
   "source": [
    "df_products = pd.read_csv('data/products_df.csv', sep=',', encoding='utf-8-sig')\n",
    "df_products.drop('Unnamed: 0', axis=1, inplace=True)"
   ]
  },
  {
   "cell_type": "code",
   "execution_count": null,
   "metadata": {
    "ExecuteTime": {
     "end_time": "2021-07-21T11:19:28.249600Z",
     "start_time": "2021-07-21T11:19:26.689Z"
    }
   },
   "outputs": [],
   "source": [
    "df_products.head()"
   ]
  },
  {
   "cell_type": "code",
   "execution_count": null,
   "metadata": {
    "ExecuteTime": {
     "end_time": "2021-07-21T11:19:28.251600Z",
     "start_time": "2021-07-21T11:19:26.692Z"
    }
   },
   "outputs": [],
   "source": [
    "df_products.info()"
   ]
  },
  {
   "cell_type": "code",
   "execution_count": null,
   "metadata": {
    "ExecuteTime": {
     "end_time": "2021-07-21T11:19:28.253600Z",
     "start_time": "2021-07-21T11:19:26.697Z"
    }
   },
   "outputs": [],
   "source": [
    "print('Valores nulos:', df_products.isna().any(), sep=2*'\\n')"
   ]
  },
  {
   "cell_type": "code",
   "execution_count": null,
   "metadata": {
    "ExecuteTime": {
     "end_time": "2021-07-21T11:19:28.255600Z",
     "start_time": "2021-07-21T11:19:26.701Z"
    }
   },
   "outputs": [],
   "source": [
    "print('Valores nulos:', df_products.isna().sum(), sep=2*'\\n')"
   ]
  },
  {
   "cell_type": "markdown",
   "metadata": {},
   "source": [
    "#### Identificar valores nulos"
   ]
  },
  {
   "cell_type": "code",
   "execution_count": null,
   "metadata": {
    "ExecuteTime": {
     "end_time": "2021-07-21T11:19:28.257600Z",
     "start_time": "2021-07-21T11:19:26.706Z"
    }
   },
   "outputs": [],
   "source": [
    "filter_payroll = df_products.payroll.isna()\n",
    "filter_pension_plan = df_products.pension_plan.isna()\n",
    "\n",
    "df_products_null = df_products.loc[filter_pension_plan | filter_payroll]\n",
    "df_products_null.head(10).T"
   ]
  },
  {
   "cell_type": "code",
   "execution_count": null,
   "metadata": {
    "ExecuteTime": {
     "end_time": "2021-07-21T11:19:28.260600Z",
     "start_time": "2021-07-21T11:19:26.710Z"
    }
   },
   "outputs": [],
   "source": [
    "df_products_null.describe().T"
   ]
  },
  {
   "cell_type": "markdown",
   "metadata": {},
   "source": [
    "#### pk_partition"
   ]
  },
  {
   "cell_type": "markdown",
   "metadata": {},
   "source": [
    "__pk_partition debe estar en formato fecha ya que indica la fecha de ingesta de los datos__"
   ]
  },
  {
   "cell_type": "code",
   "execution_count": null,
   "metadata": {
    "ExecuteTime": {
     "end_time": "2021-07-21T11:19:28.263600Z",
     "start_time": "2021-07-21T11:19:26.714Z"
    }
   },
   "outputs": [],
   "source": [
    "df_products['pk_partition'] = pd.to_datetime(df_products.pk_partition, format='%Y-%m-%d')\n",
    "df_products.sort_values('pk_partition', ascending=True, inplace=True)"
   ]
  },
  {
   "cell_type": "code",
   "execution_count": null,
   "metadata": {
    "ExecuteTime": {
     "end_time": "2021-07-21T11:19:28.266600Z",
     "start_time": "2021-07-21T11:19:26.719Z"
    }
   },
   "outputs": [],
   "source": [
    "df_products.info()"
   ]
  },
  {
   "cell_type": "markdown",
   "metadata": {},
   "source": [
    "__¿Cuantos datos se ingestaron cada día?__"
   ]
  },
  {
   "cell_type": "code",
   "execution_count": null,
   "metadata": {
    "ExecuteTime": {
     "end_time": "2021-07-21T11:19:28.272600Z",
     "start_time": "2021-07-21T11:19:26.724Z"
    }
   },
   "outputs": [],
   "source": [
    "df_products.pk_partition.value_counts()"
   ]
  },
  {
   "cell_type": "code",
   "execution_count": null,
   "metadata": {
    "ExecuteTime": {
     "end_time": "2021-07-21T11:19:28.274600Z",
     "start_time": "2021-07-21T11:19:26.729Z"
    }
   },
   "outputs": [],
   "source": [
    "n_particiones = df_products.pk_partition.value_counts().shape[0]\n",
    "print(f'Número de particiones del histórico: {n_particiones}')"
   ]
  },
  {
   "cell_type": "code",
   "execution_count": null,
   "metadata": {
    "ExecuteTime": {
     "end_time": "2021-07-21T11:19:28.277600Z",
     "start_time": "2021-07-21T11:19:26.734Z"
    }
   },
   "outputs": [],
   "source": [
    "Image(filename='img/frank_director_IT.png')"
   ]
  },
  {
   "cell_type": "code",
   "execution_count": null,
   "metadata": {
    "ExecuteTime": {
     "end_time": "2021-07-21T11:19:28.279600Z",
     "start_time": "2021-07-21T11:19:26.737Z"
    }
   },
   "outputs": [],
   "source": [
    "%matplotlib inline\n",
    "df_values = pd.DataFrame(df_products.pk_partition.value_counts(normalize=False))\n",
    "df_values.reset_index(inplace=True)\n",
    "df_values.columns=['pk_partition', 'value_counts']\n",
    "\n",
    "# Plot\n",
    "fig, ax1 = plt.subplots(figsize=(8,6))\n",
    "\n",
    "_ = sns.barplot(x=df_values['pk_partition'], y=df_values['value_counts'], ax=ax1)\n",
    "\n",
    "# Tick Params X Axis\n",
    "ax1.tick_params(axis='x', rotation=90)\n",
    "\n",
    "# Y Axis label\n",
    "ax1.set_ylabel('Nº Datos Ingestados')\n",
    "\n",
    "# Figure parameters\n",
    "fig.tight_layout(pad=1)\n",
    "\n",
    "del df_values"
   ]
  },
  {
   "cell_type": "markdown",
   "metadata": {},
   "source": [
    "<div class=\"alert alert-block alert-info\">\n",
    "<b>Solicitud:</b> ¿Información anterior del backup?\n",
    "</div>\n",
    "\n",
    "<div class=\"alert alert-block alert-danger\">\n",
    "<b>Anotación:</b> ¿Porqué se ingestan menos datos con el paso de los días?\n",
    "</div>"
   ]
  },
  {
   "cell_type": "code",
   "execution_count": null,
   "metadata": {
    "ExecuteTime": {
     "end_time": "2021-07-21T11:19:28.282600Z",
     "start_time": "2021-07-21T11:19:26.741Z"
    }
   },
   "outputs": [],
   "source": [
    "df_products.describe().T"
   ]
  },
  {
   "cell_type": "markdown",
   "metadata": {},
   "source": [
    "#### pk_cid\n",
    "\n",
    "El identificador de cliente está almacenado en formato numérico, sin embargo, se cambiará a formato string."
   ]
  },
  {
   "cell_type": "code",
   "execution_count": null,
   "metadata": {
    "ExecuteTime": {
     "end_time": "2021-07-21T11:19:28.284600Z",
     "start_time": "2021-07-21T11:19:26.746Z"
    }
   },
   "outputs": [],
   "source": [
    "df_products.pk_cid = df_products.pk_cid.apply(str)"
   ]
  },
  {
   "cell_type": "code",
   "execution_count": null,
   "metadata": {
    "ExecuteTime": {
     "end_time": "2021-07-21T11:19:28.286600Z",
     "start_time": "2021-07-21T11:19:26.749Z"
    }
   },
   "outputs": [],
   "source": [
    "df_products.info()"
   ]
  },
  {
   "cell_type": "code",
   "execution_count": null,
   "metadata": {
    "ExecuteTime": {
     "end_time": "2021-07-21T11:19:28.290600Z",
     "start_time": "2021-07-21T11:19:26.752Z"
    }
   },
   "outputs": [],
   "source": [
    "n_clients_id = len(list(df_products.pk_cid.unique()))\n",
    "print(f'Nº clientes: {n_clients_id}')"
   ]
  },
  {
   "cell_type": "code",
   "execution_count": null,
   "metadata": {
    "ExecuteTime": {
     "end_time": "2021-07-21T11:19:28.292600Z",
     "start_time": "2021-07-21T11:19:26.754Z"
    }
   },
   "outputs": [],
   "source": [
    "df_products.pk_cid.value_counts()"
   ]
  },
  {
   "cell_type": "code",
   "execution_count": null,
   "metadata": {
    "ExecuteTime": {
     "end_time": "2021-07-21T11:19:28.296600Z",
     "start_time": "2021-07-21T11:19:26.757Z"
    }
   },
   "outputs": [],
   "source": [
    "df_products.shape"
   ]
  },
  {
   "cell_type": "markdown",
   "metadata": {},
   "source": [
    "#### Evolución temporal de la cuenta \n",
    "\n",
    "Se analiza la evolución mensual de las siguientes cuentas:\n",
    "- emc_account: Cuenta easyMoney crypto.\n",
    "- em_acount: Cuenta easyMoney.\n",
    "- em_account_p: Cuenta easyMoney +.\n",
    "- em_account_pp: Cuenta easyMoney ++"
   ]
  },
  {
   "cell_type": "code",
   "execution_count": null,
   "metadata": {
    "ExecuteTime": {
     "end_time": "2021-07-21T11:19:28.299600Z",
     "start_time": "2021-07-21T11:19:26.761Z"
    }
   },
   "outputs": [],
   "source": [
    "def dif_previous_month(df, by_col):\n",
    "    columns = ['em_account', 'em_account_p', 'em_account_pp', 'emc_account']\n",
    "\n",
    "    for col_name in columns:\n",
    "        col_name_shift =  f'{col_name}_previous_month'\n",
    "        df[col_name_shift] = df.groupby(by=by_col)[col_name].shift(1)\n",
    "        \n",
    "        col_name_dif = f'dif_{col_name}'\n",
    "        df[col_name_dif] = df[col_name] - df[col_name_shift]\n",
    "        \n",
    "    return df"
   ]
  },
  {
   "cell_type": "code",
   "execution_count": null,
   "metadata": {
    "ExecuteTime": {
     "end_time": "2021-07-21T11:19:28.301600Z",
     "start_time": "2021-07-21T11:19:26.763Z"
    }
   },
   "outputs": [],
   "source": [
    "df_products_sorted = df_products.sort_values(by=['pk_cid', 'pk_partition'], ascending=[True, True], inplace=False)\n",
    "df_products_sorted.rename({'em_acount': 'em_account'}, axis=1, inplace=True)\n",
    "df_analisis = dif_previous_month(df_products_sorted, by_col='pk_cid')\n",
    "df_analisis.dropna(axis=0, inplace=True)"
   ]
  },
  {
   "cell_type": "code",
   "execution_count": null,
   "metadata": {
    "ExecuteTime": {
     "end_time": "2021-07-21T11:19:28.306600Z",
     "start_time": "2021-07-21T11:19:26.770Z"
    }
   },
   "outputs": [],
   "source": [
    "df_analisis.head(20).T"
   ]
  },
  {
   "cell_type": "code",
   "execution_count": null,
   "metadata": {
    "ExecuteTime": {
     "end_time": "2021-07-21T11:19:28.308600Z",
     "start_time": "2021-07-21T11:19:26.773Z"
    }
   },
   "outputs": [],
   "source": [
    "columns = ['dif_em_account', 'dif_em_account_p', 'dif_em_account_pp', 'dif_emc_account']\n",
    "\n",
    "for col_name in columns:\n",
    "    vc = df_analisis[col_name].value_counts(normalize=True)\n",
    "    print(col_name, vc,sep='\\n')\n",
    "    print(5*'-', end=2*'\\n')"
   ]
  },
  {
   "cell_type": "markdown",
   "metadata": {},
   "source": [
    "## sociodemographic\n",
    "\n",
    "Descripción:\n",
    "\n",
    "- __pk_cid.__ Identificador de cliente\n",
    "- __pk_partition.__ Fecha de ingesta de los datos\n",
    "- __country_id.__ País de residencia del cliente\n",
    "- __region_code.__ Provincia de residencia del cliente (para ES)\n",
    "- __gender.__ Sexo del cliente\n",
    "- __age.__ Edad del cliente\n",
    "- __decreased__. Deceased index. N/S\n",
    "- __salary__. Ingresos brutos de la unidad familiar"
   ]
  },
  {
   "cell_type": "markdown",
   "metadata": {},
   "source": [
    "<div class=\"alert alert-block alert-info\">\n",
    "<b>Solicitud:</b> ¿Cómo se interpreta la columna 'decreased'?\n",
    "</div>"
   ]
  },
  {
   "cell_type": "code",
   "execution_count": null,
   "metadata": {
    "ExecuteTime": {
     "end_time": "2021-07-21T11:19:28.311600Z",
     "start_time": "2021-07-21T11:19:26.777Z"
    }
   },
   "outputs": [],
   "source": [
    "df_sociodemographic = pd.read_csv('data/sociodemographic_df.csv', sep=',', encoding='utf-8-sig')\n",
    "df_sociodemographic.drop('Unnamed: 0', axis=1, inplace=True)"
   ]
  },
  {
   "cell_type": "code",
   "execution_count": null,
   "metadata": {
    "ExecuteTime": {
     "end_time": "2021-07-21T11:19:28.313600Z",
     "start_time": "2021-07-21T11:19:26.780Z"
    }
   },
   "outputs": [],
   "source": [
    "df_sociodemographic.info()"
   ]
  },
  {
   "cell_type": "code",
   "execution_count": null,
   "metadata": {
    "ExecuteTime": {
     "end_time": "2021-07-21T11:19:28.316600Z",
     "start_time": "2021-07-21T11:19:26.783Z"
    }
   },
   "outputs": [],
   "source": [
    "df_sociodemographic['pk_cid'] = df_sociodemographic.pk_cid.apply(str)\n",
    "df_sociodemographic['pk_partition'] = pd.to_datetime(df_sociodemographic.pk_partition, format='%Y-%m-%d')\n",
    "df_sociodemographic['region_code'] = df_sociodemographic.region_code.apply(str)"
   ]
  },
  {
   "cell_type": "code",
   "execution_count": null,
   "metadata": {
    "ExecuteTime": {
     "end_time": "2021-07-21T11:19:28.318600Z",
     "start_time": "2021-07-21T11:19:26.786Z"
    }
   },
   "outputs": [],
   "source": [
    "df_sociodemographic.info()"
   ]
  },
  {
   "cell_type": "code",
   "execution_count": null,
   "metadata": {
    "ExecuteTime": {
     "end_time": "2021-07-21T11:19:28.321600Z",
     "start_time": "2021-07-21T11:19:26.789Z"
    }
   },
   "outputs": [],
   "source": [
    "df_sociodemographic.head()"
   ]
  },
  {
   "cell_type": "code",
   "execution_count": null,
   "metadata": {
    "ExecuteTime": {
     "end_time": "2021-07-21T11:19:28.323600Z",
     "start_time": "2021-07-21T11:19:26.792Z"
    }
   },
   "outputs": [],
   "source": [
    "print('Valores nulos:', df_sociodemographic.isna().any(), sep=2*'\\n')"
   ]
  },
  {
   "cell_type": "code",
   "execution_count": null,
   "metadata": {
    "ExecuteTime": {
     "end_time": "2021-07-21T11:19:28.326600Z",
     "start_time": "2021-07-21T11:19:26.796Z"
    }
   },
   "outputs": [],
   "source": [
    "df_sociodemographic.country_id.value_counts()"
   ]
  },
  {
   "cell_type": "markdown",
   "metadata": {
    "ExecuteTime": {
     "end_time": "2021-07-18T17:37:31.516339Z",
     "start_time": "2021-07-18T17:37:31.508540Z"
    }
   },
   "source": [
    "<div class=\"alert alert-block alert-info\">\n",
    "<b>Solicitud:</b> ¿Cuáles son los códigos de países?\n",
    "</div>"
   ]
  },
  {
   "cell_type": "markdown",
   "metadata": {},
   "source": [
    "__Seleccionar el código ES__"
   ]
  },
  {
   "cell_type": "code",
   "execution_count": null,
   "metadata": {
    "ExecuteTime": {
     "end_time": "2021-07-21T11:19:28.328600Z",
     "start_time": "2021-07-21T11:19:26.802Z"
    }
   },
   "outputs": [],
   "source": [
    "df_spain = df_sociodemographic[df_sociodemographic.country_id=='ES'].copy()"
   ]
  },
  {
   "cell_type": "code",
   "execution_count": null,
   "metadata": {
    "ExecuteTime": {
     "end_time": "2021-07-21T11:19:28.331600Z",
     "start_time": "2021-07-21T11:19:26.806Z"
    }
   },
   "outputs": [],
   "source": [
    "df_spain.head()"
   ]
  },
  {
   "cell_type": "markdown",
   "metadata": {},
   "source": [
    "__Codigo país ES -> region_code__"
   ]
  },
  {
   "cell_type": "code",
   "execution_count": null,
   "metadata": {
    "ExecuteTime": {
     "end_time": "2021-07-21T11:19:28.333600Z",
     "start_time": "2021-07-21T11:19:26.810Z"
    }
   },
   "outputs": [],
   "source": [
    "df_spain.region_code.value_counts()"
   ]
  },
  {
   "cell_type": "markdown",
   "metadata": {
    "ExecuteTime": {
     "end_time": "2021-07-18T17:46:08.240850Z",
     "start_time": "2021-07-18T17:46:08.235492Z"
    }
   },
   "source": [
    "<div class=\"alert alert-block alert-info\">\n",
    "<b>Solicitud:</b> ¿Cuáles son las regiones de los paises?\n",
    "</div>"
   ]
  },
  {
   "cell_type": "markdown",
   "metadata": {},
   "source": [
    "<hr style=\"height:5px;border-width:0;color:orange;background-color:orange\">"
   ]
  },
  {
   "cell_type": "markdown",
   "metadata": {},
   "source": [
    "## Anexos"
   ]
  },
  {
   "cell_type": "markdown",
   "metadata": {},
   "source": [
    "### Anexo I. Matriz de Ansoff [3]\n",
    "\n",
    "\n",
    "La Matriz de Ansoff, también denominada matriz producto-mercado, es una de las principales herramientas de estrategia empresarial y de marketing estratégico. Fue creada por el estratega Igor Ansoff en el año 1957. Esta matriz, es la herramienta perfecta para determinar la dirección estratégica de crecimiento de una empresa, por tanto solamente es útil para aquellas empresas que se han fijado objetivos de crecimiento.\n",
    "\n",
    "La Matriz de Ansoff relaciona los productos con los mercados, clasificando al binomio producto-mercado en base al criterio de novedad o actualidad. Como resultado obtenemos 4 cuadrantes con información sobre cuál es la mejor opción a seguir: estrategia de penetración de mercados, estrategia de desarrollo de nuevos productos, estrategia de desarrollo de nuevos mercados o estrategia de diversificación.\n",
    "\n",
    "<img src=\"img/matriz_ansoff.png\" width=\"600\" height=\"400\">\n",
    "\n",
    "\n",
    "#### Estrategias de crecimiento de la Matriz de Ansoff\n",
    "- __Estrategia de penetración de mercados:__ esta primera opción consiste en ver la posibilidad de obtener una mayor cuota de mercado trabajando con nuestros productos actuales en los mercados que operamos actualmente. Para ello, realizaremos acciones para aumentar el consumo de nuestros clientes (acciones de venta cruzada), atraer clientes potenciales (publicidad, promoción) y atraer clientes de nuestra competencia (esfuerzos dirigidos a la prueba de nuestro producto, nuevos usos, mejora de imagen). Esta opción estratégica es la que ofrece mayor seguridad y un menor margen de error, ya que operamos con productos que conocemos, en mercados que también conocemos.\n",
    "\n",
    "- __Estrategia de desarrollo de nuevos mercados:__ esta opción estratégica de la Matriz de Ansoff, plantea si la empresa puede desarrollar nuevos mercados con sus productos actuales. Para lograr llevar a cabo esta estrategia es necesario identificar nuevos mercados geográficos, nuevos segmentos de mercado y/o nuevos canales de distribución. Ejemplos de esta estrategia son: la expansión regional, nacional, internacional, la venta por canal online o nuevos acuerdos con distribuidores, entre otros.\n",
    "\n",
    "- __Estrategia de desarrollo de nuevos productos:__ en esta opción estratégica, la empresa desarrolla nuevos productos para los mercados en los que opera actualmente. Los mercados están en continuo movimiento y por tanto en constante cambio, es totalmente lógico que en determinadas ocasiones sea necesario el lanzamiento de nuevos productos, la modificación o actualización de productos, para satisfacer las nuevas necesidades generadas por dichos cambios.\n",
    "\n",
    "- __Estrategia de diversificación:__ por último en la estrategia de diversificación, es necesario estudiar si existen oportunidades para desarrollar nuevos productos para nuevos mercados. Esta estrategia es la última opción que debe escoger una empresa, ya que ofrece menor seguridad, puesto que cualquier empresa, cuanto más se aleje de su conocimiento sobre los productos que comercializa y los mercados donde opera, tendrá un mayor riesgo al fracaso.\n",
    "\n",
    "Tal y como ya he mencionado anteriormente, el principal objetivo de la Matriz de Ansoff, es ayudar en la toma de decisiones sobre la expansión y el crecimiento estratégico de una empresa. Los tres primeros cuadrantes de la matriz (penetración de mercados, desarrollo de nuevos mercados y desarrollo de nuevos productos) corresponden a estrategias de crecimiento, mientras que el último cuadrante marca una estrategia de diversificación. Dependiendo del statu quo de cada empresa en el momento del análisis, la matriz permite escoger la opción estratégica que entraña un menor riesgo para su crecimiento. La matriz recomienda el siguiente orden de elección de la estrategia a implementar: en primer lugar la penetración de mercados, en segundo lugar el desarrollo de nuevos mercados, en tercer lugar el desarrollo de nuevos productos y en cuarto lugar la diversificación. Como se puede apreciar en la aplicación de la Matriz de Ansoff, toda empresa debe agotar todas las opciones de expansión antes de abordar una estrategia de diversificación."
   ]
  },
  {
   "cell_type": "markdown",
   "metadata": {},
   "source": [
    "<hr style=\"height:5px;border-width:0;color:orange;background-color:orange\">"
   ]
  },
  {
   "cell_type": "markdown",
   "metadata": {},
   "source": [
    "## Bibliografía\n",
    "\n",
    "- [1] Master en Data Science. Nuclio Digital School. Diapositivas del curso.\n",
    "\n",
    "- [2] Hannan Satopay. The Ultimate Markdown Guide (for Jupyter Notebook). Medium. [url: https://medium.com/analytics-vidhya/the-ultimate-markdown-guide-for-jupyter-notebook-d5e5abf728fd]\n",
    "\n",
    "- [3] Roberto Espinosa. Matriz de Ansoff, estrategias de crecimiento. [url: https://robertoespinosa.es/2015/05/31/matriz-de-ansoff-estrategias-crecimiento]"
   ]
  }
 ],
 "metadata": {
  "interpreter": {
   "hash": "6130c094b9447fe37a227cbecba7582730e90d97172bf6ed09ef57c45a8e903c"
  },
  "kernelspec": {
   "display_name": "Python [conda env:root] *",
   "language": "python",
   "name": "conda-root-py"
  },
  "language_info": {
   "codemirror_mode": {
    "name": "ipython",
    "version": 3
   },
   "file_extension": ".py",
   "mimetype": "text/x-python",
   "name": "python",
   "nbconvert_exporter": "python",
   "pygments_lexer": "ipython3",
   "version": "3.8.5"
  },
  "nbTranslate": {
   "displayLangs": [
    "*"
   ],
   "hotkey": "alt-t",
   "langInMainMenu": true,
   "sourceLang": "en",
   "targetLang": "fr",
   "useGoogleTranslate": true
  },
  "toc": {
   "base_numbering": 1,
   "nav_menu": {},
   "number_sections": true,
   "sideBar": true,
   "skip_h1_title": true,
   "title_cell": "Table of Contents",
   "title_sidebar": "Contents",
   "toc_cell": true,
   "toc_position": {
    "height": "calc(100% - 180px)",
    "left": "10px",
    "top": "150px",
    "width": "261.804px"
   },
   "toc_section_display": true,
   "toc_window_display": true
  },
  "varInspector": {
   "cols": {
    "lenName": 16,
    "lenType": 16,
    "lenVar": 40
   },
   "kernels_config": {
    "python": {
     "delete_cmd_postfix": "",
     "delete_cmd_prefix": "del ",
     "library": "var_list.py",
     "varRefreshCmd": "print(var_dic_list())"
    },
    "r": {
     "delete_cmd_postfix": ") ",
     "delete_cmd_prefix": "rm(",
     "library": "var_list.r",
     "varRefreshCmd": "cat(var_dic_list()) "
    }
   },
   "types_to_exclude": [
    "module",
    "function",
    "builtin_function_or_method",
    "instance",
    "_Feature"
   ],
   "window_display": false
  }
 },
 "nbformat": 4,
 "nbformat_minor": 5
}
